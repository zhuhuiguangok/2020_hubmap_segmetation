{
 "cells": [
  {
   "cell_type": "code",
   "execution_count": 1,
   "metadata": {
    "_cell_guid": "b1076dfc-b9ad-4769-8c92-a6c4dae69d19",
    "_uuid": "8f2839f25d086af736a60e9eeb907d3b93b6e0e5",
    "execution": {
     "iopub.execute_input": "2021-01-24T01:29:50.695291Z",
     "iopub.status.busy": "2021-01-24T01:29:50.694632Z",
     "iopub.status.idle": "2021-01-24T01:29:50.738790Z",
     "shell.execute_reply": "2021-01-24T01:29:50.739264Z"
    },
    "papermill": {
     "duration": 0.076695,
     "end_time": "2021-01-24T01:29:50.739463",
     "exception": false,
     "start_time": "2021-01-24T01:29:50.662768",
     "status": "completed"
    },
    "tags": []
   },
   "outputs": [
    {
     "name": "stdout",
     "output_type": "stream",
     "text": [
      "/kaggle/input/pretrain-coco-weights-pytorch/deeplabv3_resnet50_coco-cd0a2569.pth\n",
      "/kaggle/input/pretrain-coco-weights-pytorch/fcn_resnet50_coco-1167a1af.pth\n",
      "/kaggle/input/pretrain-coco-weights-pytorch/deeplabv3_resnet101_coco-586e9e4e.pth\n",
      "/kaggle/input/pretrain-coco-weights-pytorch/fcn_resnet101_coco-7ecb50ca.pth\n",
      "/kaggle/input/hubmap-kidney-segmentation/sample_submission.csv\n",
      "/kaggle/input/hubmap-kidney-segmentation/HuBMAP-20-dataset_information.csv\n",
      "/kaggle/input/hubmap-kidney-segmentation/train.csv\n",
      "/kaggle/input/hubmap-kidney-segmentation/test/afa5e8098.tiff\n",
      "/kaggle/input/hubmap-kidney-segmentation/test/b9a3865fc-anatomical-structure.json\n",
      "/kaggle/input/hubmap-kidney-segmentation/test/b9a3865fc.tiff\n",
      "/kaggle/input/hubmap-kidney-segmentation/test/afa5e8098-anatomical-structure.json\n",
      "/kaggle/input/hubmap-kidney-segmentation/test/c68fe75ea.tiff\n",
      "/kaggle/input/hubmap-kidney-segmentation/test/26dc41664-anatomical-structure.json\n",
      "/kaggle/input/hubmap-kidney-segmentation/test/c68fe75ea-anatomical-structure.json\n",
      "/kaggle/input/hubmap-kidney-segmentation/test/b2dc8411c-anatomical-structure.json\n",
      "/kaggle/input/hubmap-kidney-segmentation/test/b2dc8411c.tiff\n",
      "/kaggle/input/hubmap-kidney-segmentation/test/26dc41664.tiff\n",
      "/kaggle/input/hubmap-kidney-segmentation/train/0486052bb-anatomical-structure.json\n",
      "/kaggle/input/hubmap-kidney-segmentation/train/e79de561c-anatomical-structure.json\n",
      "/kaggle/input/hubmap-kidney-segmentation/train/095bf7a1f.tiff\n",
      "/kaggle/input/hubmap-kidney-segmentation/train/0486052bb.json\n",
      "/kaggle/input/hubmap-kidney-segmentation/train/095bf7a1f-anatomical-structure.json\n",
      "/kaggle/input/hubmap-kidney-segmentation/train/e79de561c.json\n",
      "/kaggle/input/hubmap-kidney-segmentation/train/e79de561c.tiff\n",
      "/kaggle/input/hubmap-kidney-segmentation/train/cb2d976f4-anatomical-structure.json\n",
      "/kaggle/input/hubmap-kidney-segmentation/train/0486052bb.tiff\n",
      "/kaggle/input/hubmap-kidney-segmentation/train/aaa6a05cc.json\n",
      "/kaggle/input/hubmap-kidney-segmentation/train/aaa6a05cc.tiff\n",
      "/kaggle/input/hubmap-kidney-segmentation/train/2f6ecfcdf-anatomical-structure.json\n",
      "/kaggle/input/hubmap-kidney-segmentation/train/2f6ecfcdf.tiff\n",
      "/kaggle/input/hubmap-kidney-segmentation/train/54f2eec69.tiff\n",
      "/kaggle/input/hubmap-kidney-segmentation/train/54f2eec69.json\n",
      "/kaggle/input/hubmap-kidney-segmentation/train/cb2d976f4.json\n",
      "/kaggle/input/hubmap-kidney-segmentation/train/1e2425f28.json\n",
      "/kaggle/input/hubmap-kidney-segmentation/train/1e2425f28.tiff\n",
      "/kaggle/input/hubmap-kidney-segmentation/train/1e2425f28-anatomical-structure.json\n",
      "/kaggle/input/hubmap-kidney-segmentation/train/54f2eec69-anatomical-structure.json\n",
      "/kaggle/input/hubmap-kidney-segmentation/train/cb2d976f4.tiff\n",
      "/kaggle/input/hubmap-kidney-segmentation/train/aaa6a05cc-anatomical-structure.json\n",
      "/kaggle/input/hubmap-kidney-segmentation/train/095bf7a1f.json\n",
      "/kaggle/input/hubmap-kidney-segmentation/train/2f6ecfcdf.json\n"
     ]
    }
   ],
   "source": [
    "# This Python 3 environment comes with many helpful analytics libraries installed\n",
    "# It is defined by the kaggle/python Docker image: https://github.com/kaggle/docker-python\n",
    "# For example, here's several helpful packages to load\n",
    "\n",
    "import numpy as np # linear algebra\n",
    "import pandas as pd # data processing, CSV file I/O (e.g. pd.read_csv)\n",
    "\n",
    "# Input data files are available in the read-only \"../input/\" directory\n",
    "# For example, running this (by clicking run or pressing Shift+Enter) will list all files under the input directory\n",
    "\n",
    "import os\n",
    "for dirname, _, filenames in os.walk('/kaggle/input'):\n",
    "    for filename in filenames:\n",
    "        print(os.path.join(dirname, filename))\n",
    "\n",
    "# You can write up to 20GB to the current directory (/kaggle/working/) that gets preserved as output when you create a version using \"Save & Run All\" \n",
    "# You can also write temporary files to /kaggle/temp/, but they won't be saved outside of the current session"
   ]
  },
  {
   "cell_type": "code",
   "execution_count": 2,
   "metadata": {
    "_cell_guid": "79c7e3d0-c299-4dcb-8224-4455121ee9b0",
    "_uuid": "d629ff2d2480ee46fbb7e2d37f6b5fab8052498a",
    "execution": {
     "iopub.execute_input": "2021-01-24T01:29:50.795068Z",
     "iopub.status.busy": "2021-01-24T01:29:50.794205Z",
     "iopub.status.idle": "2021-01-24T01:30:22.607492Z",
     "shell.execute_reply": "2021-01-24T01:30:22.606897Z"
    },
    "papermill": {
     "duration": 31.843616,
     "end_time": "2021-01-24T01:30:22.607620",
     "exception": false,
     "start_time": "2021-01-24T01:29:50.764004",
     "status": "completed"
    },
    "tags": []
   },
   "outputs": [
    {
     "name": "stdout",
     "output_type": "stream",
     "text": [
      "Collecting pretrainedmodels\r\n",
      "  Downloading pretrainedmodels-0.7.4.tar.gz (58 kB)\r\n",
      "\u001b[K     |████████████████████████████████| 58 kB 870 kB/s \r\n",
      "\u001b[?25hRequirement already satisfied: torch in /opt/conda/lib/python3.7/site-packages (from pretrainedmodels) (1.7.0)\r\n",
      "Requirement already satisfied: torchvision in /opt/conda/lib/python3.7/site-packages (from pretrainedmodels) (0.8.1)\r\n",
      "Requirement already satisfied: munch in /opt/conda/lib/python3.7/site-packages (from pretrainedmodels) (2.5.0)\r\n",
      "Requirement already satisfied: tqdm in /opt/conda/lib/python3.7/site-packages (from pretrainedmodels) (4.45.0)\r\n",
      "Requirement already satisfied: six in /opt/conda/lib/python3.7/site-packages (from munch->pretrainedmodels) (1.14.0)\r\n",
      "Requirement already satisfied: future in /opt/conda/lib/python3.7/site-packages (from torch->pretrainedmodels) (0.18.2)\r\n",
      "Requirement already satisfied: typing_extensions in /opt/conda/lib/python3.7/site-packages (from torch->pretrainedmodels) (3.7.4.1)\r\n",
      "Requirement already satisfied: dataclasses in /opt/conda/lib/python3.7/site-packages (from torch->pretrainedmodels) (0.6)\r\n",
      "Requirement already satisfied: numpy in /opt/conda/lib/python3.7/site-packages (from torch->pretrainedmodels) (1.18.5)\r\n",
      "Requirement already satisfied: numpy in /opt/conda/lib/python3.7/site-packages (from torch->pretrainedmodels) (1.18.5)\r\n",
      "Requirement already satisfied: torch in /opt/conda/lib/python3.7/site-packages (from pretrainedmodels) (1.7.0)\r\n",
      "Requirement already satisfied: pillow>=4.1.1 in /opt/conda/lib/python3.7/site-packages (from torchvision->pretrainedmodels) (8.0.1)\r\n",
      "Building wheels for collected packages: pretrainedmodels\r\n",
      "  Building wheel for pretrainedmodels (setup.py) ... \u001b[?25l-\b \b\\\b \bdone\r\n",
      "\u001b[?25h  Created wheel for pretrainedmodels: filename=pretrainedmodels-0.7.4-py3-none-any.whl size=60962 sha256=e8ec1d01040a93d6c8c3cd20df6c846d19ee0ea33a2e24507d70f4c968d9b849\r\n",
      "  Stored in directory: /root/.cache/pip/wheels/ed/27/e8/9543d42de2740d3544db96aefef63bda3f2c1761b3334f4873\r\n",
      "Successfully built pretrainedmodels\r\n",
      "Installing collected packages: pretrainedmodels\r\n",
      "Successfully installed pretrainedmodels-0.7.4\r\n",
      "\u001b[33mWARNING: You are using pip version 20.3.1; however, version 21.0 is available.\r\n",
      "You should consider upgrading via the '/opt/conda/bin/python3.7 -m pip install --upgrade pip' command.\u001b[0m\r\n",
      "Collecting segmentation_models_pytorch\r\n",
      "  Downloading segmentation_models_pytorch-0.1.3-py3-none-any.whl (66 kB)\r\n",
      "\u001b[K     |████████████████████████████████| 66 kB 826 kB/s \r\n",
      "\u001b[?25hRequirement already satisfied: torchvision>=0.3.0 in /opt/conda/lib/python3.7/site-packages (from segmentation_models_pytorch) (0.8.1)\r\n",
      "Requirement already satisfied: pretrainedmodels==0.7.4 in /opt/conda/lib/python3.7/site-packages (from segmentation_models_pytorch) (0.7.4)\r\n",
      "Collecting efficientnet-pytorch==0.6.3\r\n",
      "  Downloading efficientnet_pytorch-0.6.3.tar.gz (16 kB)\r\n",
      "Requirement already satisfied: torch in /opt/conda/lib/python3.7/site-packages (from efficientnet-pytorch==0.6.3->segmentation_models_pytorch) (1.7.0)\r\n",
      "Requirement already satisfied: torch in /opt/conda/lib/python3.7/site-packages (from efficientnet-pytorch==0.6.3->segmentation_models_pytorch) (1.7.0)\r\n",
      "Requirement already satisfied: munch in /opt/conda/lib/python3.7/site-packages (from pretrainedmodels==0.7.4->segmentation_models_pytorch) (2.5.0)\r\n",
      "Requirement already satisfied: torchvision>=0.3.0 in /opt/conda/lib/python3.7/site-packages (from segmentation_models_pytorch) (0.8.1)\r\n",
      "Requirement already satisfied: tqdm in /opt/conda/lib/python3.7/site-packages (from pretrainedmodels==0.7.4->segmentation_models_pytorch) (4.45.0)\r\n",
      "Requirement already satisfied: six in /opt/conda/lib/python3.7/site-packages (from munch->pretrainedmodels==0.7.4->segmentation_models_pytorch) (1.14.0)\r\n",
      "Collecting timm==0.3.2\r\n",
      "  Downloading timm-0.3.2-py3-none-any.whl (244 kB)\r\n",
      "\u001b[K     |████████████████████████████████| 244 kB 4.0 MB/s \r\n",
      "\u001b[?25hRequirement already satisfied: torch in /opt/conda/lib/python3.7/site-packages (from efficientnet-pytorch==0.6.3->segmentation_models_pytorch) (1.7.0)\r\n",
      "Requirement already satisfied: torchvision>=0.3.0 in /opt/conda/lib/python3.7/site-packages (from segmentation_models_pytorch) (0.8.1)\r\n",
      "Requirement already satisfied: future in /opt/conda/lib/python3.7/site-packages (from torch->efficientnet-pytorch==0.6.3->segmentation_models_pytorch) (0.18.2)\r\n",
      "Requirement already satisfied: typing_extensions in /opt/conda/lib/python3.7/site-packages (from torch->efficientnet-pytorch==0.6.3->segmentation_models_pytorch) (3.7.4.1)\r\n",
      "Requirement already satisfied: dataclasses in /opt/conda/lib/python3.7/site-packages (from torch->efficientnet-pytorch==0.6.3->segmentation_models_pytorch) (0.6)\r\n",
      "Requirement already satisfied: numpy in /opt/conda/lib/python3.7/site-packages (from torch->efficientnet-pytorch==0.6.3->segmentation_models_pytorch) (1.18.5)\r\n",
      "Requirement already satisfied: numpy in /opt/conda/lib/python3.7/site-packages (from torch->efficientnet-pytorch==0.6.3->segmentation_models_pytorch) (1.18.5)\r\n",
      "Requirement already satisfied: torch in /opt/conda/lib/python3.7/site-packages (from efficientnet-pytorch==0.6.3->segmentation_models_pytorch) (1.7.0)\r\n",
      "Requirement already satisfied: pillow>=4.1.1 in /opt/conda/lib/python3.7/site-packages (from torchvision>=0.3.0->segmentation_models_pytorch) (8.0.1)\r\n",
      "Building wheels for collected packages: efficientnet-pytorch\r\n",
      "  Building wheel for efficientnet-pytorch (setup.py) ... \u001b[?25l-\b \b\\\b \bdone\r\n",
      "\u001b[?25h  Created wheel for efficientnet-pytorch: filename=efficientnet_pytorch-0.6.3-py3-none-any.whl size=12419 sha256=3cc2af4a21c0bd4dfbce659aa16f0bb6162bf5555d0f941eee161df5cc41398c\r\n",
      "  Stored in directory: /root/.cache/pip/wheels/90/6b/0c/f0ad36d00310e65390b0d4c9218ae6250ac579c92540c9097a\r\n",
      "Successfully built efficientnet-pytorch\r\n",
      "Installing collected packages: timm, efficientnet-pytorch, segmentation-models-pytorch\r\n",
      "Successfully installed efficientnet-pytorch-0.6.3 segmentation-models-pytorch-0.1.3 timm-0.3.2\r\n",
      "\u001b[33mWARNING: You are using pip version 20.3.1; however, version 21.0 is available.\r\n",
      "You should consider upgrading via the '/opt/conda/bin/python3.7 -m pip install --upgrade pip' command.\u001b[0m\r\n",
      "Requirement already satisfied: efficientnet_pytorch in /opt/conda/lib/python3.7/site-packages (0.6.3)\r\n",
      "Requirement already satisfied: torch in /opt/conda/lib/python3.7/site-packages (from efficientnet_pytorch) (1.7.0)\r\n",
      "Requirement already satisfied: future in /opt/conda/lib/python3.7/site-packages (from torch->efficientnet_pytorch) (0.18.2)\r\n",
      "Requirement already satisfied: typing_extensions in /opt/conda/lib/python3.7/site-packages (from torch->efficientnet_pytorch) (3.7.4.1)\r\n",
      "Requirement already satisfied: dataclasses in /opt/conda/lib/python3.7/site-packages (from torch->efficientnet_pytorch) (0.6)\r\n",
      "Requirement already satisfied: numpy in /opt/conda/lib/python3.7/site-packages (from torch->efficientnet_pytorch) (1.18.5)\r\n",
      "\u001b[33mWARNING: You are using pip version 20.3.1; however, version 21.0 is available.\r\n",
      "You should consider upgrading via the '/opt/conda/bin/python3.7 -m pip install --upgrade pip' command.\u001b[0m\r\n"
     ]
    }
   ],
   "source": [
    "!pip install pretrainedmodels\n",
    "!pip install segmentation_models_pytorch\n",
    "!pip install efficientnet_pytorch"
   ]
  },
  {
   "cell_type": "code",
   "execution_count": 3,
   "metadata": {
    "execution": {
     "iopub.execute_input": "2021-01-24T01:30:22.684827Z",
     "iopub.status.busy": "2021-01-24T01:30:22.682957Z",
     "iopub.status.idle": "2021-01-24T01:30:22.685565Z",
     "shell.execute_reply": "2021-01-24T01:30:22.686039Z"
    },
    "papermill": {
     "duration": 0.043598,
     "end_time": "2021-01-24T01:30:22.686146",
     "exception": false,
     "start_time": "2021-01-24T01:30:22.642548",
     "status": "completed"
    },
    "tags": []
   },
   "outputs": [],
   "source": [
    "# import segmentation_models_pytorch as smp\n",
    "# model=smp.Unet(\n",
    "#         encoder_name='efficientnet-b5',\n",
    "#         encoder_weights='imagenet',\n",
    "#         decoder_attention_type='scse',\n",
    "#         in_channels= 3,\n",
    "#         classes= 1)\n",
    "# #    加上ASPP结构\n",
    "# model.decoder.center=ASPP(512,512)\n",
    "# # for name,i in model.decoder.named_children():\n",
    "# #     print(name)\n",
    "\n",
    "# import torch\n",
    "# inputs=torch.zeros((1,3,256,256))\n",
    "# output=model.encoder(inputs)\n",
    "# print(output[0].shape)\n"
   ]
  },
  {
   "cell_type": "code",
   "execution_count": 4,
   "metadata": {
    "execution": {
     "iopub.execute_input": "2021-01-24T01:30:22.764126Z",
     "iopub.status.busy": "2021-01-24T01:30:22.763052Z",
     "iopub.status.idle": "2021-01-24T01:30:25.422369Z",
     "shell.execute_reply": "2021-01-24T01:30:25.423143Z"
    },
    "papermill": {
     "duration": 2.701695,
     "end_time": "2021-01-24T01:30:25.423321",
     "exception": false,
     "start_time": "2021-01-24T01:30:22.721626",
     "status": "completed"
    },
    "tags": []
   },
   "outputs": [
    {
     "name": "stdout",
     "output_type": "stream",
     "text": [
      "['fbresnet152', 'bninception', 'resnext101_32x4d', 'resnext101_64x4d', 'inceptionv4', 'inceptionresnetv2', 'alexnet', 'densenet121', 'densenet169', 'densenet201', 'densenet161', 'resnet18', 'resnet34', 'resnet50', 'resnet101', 'resnet152', 'inceptionv3', 'squeezenet1_0', 'squeezenet1_1', 'vgg11', 'vgg11_bn', 'vgg13', 'vgg13_bn', 'vgg16', 'vgg16_bn', 'vgg19_bn', 'vgg19', 'nasnetamobile', 'nasnetalarge', 'dpn68', 'dpn68b', 'dpn92', 'dpn98', 'dpn131', 'dpn107', 'xception', 'senet154', 'se_resnet50', 'se_resnet101', 'se_resnet152', 'se_resnext50_32x4d', 'se_resnext101_32x4d', 'cafferesnet101', 'pnasnet5large', 'polynet']\n"
     ]
    }
   ],
   "source": [
    "import pretrainedmodels\n",
    "print(pretrainedmodels.model_names)"
   ]
  },
  {
   "cell_type": "code",
   "execution_count": 5,
   "metadata": {
    "execution": {
     "iopub.execute_input": "2021-01-24T01:30:25.499823Z",
     "iopub.status.busy": "2021-01-24T01:30:25.498868Z",
     "iopub.status.idle": "2021-01-24T01:30:30.754740Z",
     "shell.execute_reply": "2021-01-24T01:30:30.754191Z"
    },
    "papermill": {
     "duration": 5.295952,
     "end_time": "2021-01-24T01:30:30.754878",
     "exception": false,
     "start_time": "2021-01-24T01:30:25.458926",
     "status": "completed"
    },
    "tags": []
   },
   "outputs": [
    {
     "name": "stderr",
     "output_type": "stream",
     "text": [
      "Downloading: \"https://github.com/lukemelas/EfficientNet-PyTorch/releases/download/1.0/efficientnet-b5-b6417697.pth\" to /root/.cache/torch/hub/checkpoints/efficientnet-b5-b6417697.pth\n"
     ]
    },
    {
     "data": {
      "application/vnd.jupyter.widget-view+json": {
       "model_id": "6875b9cc1a4a4ea7b3ce35f80a9410a2",
       "version_major": 2,
       "version_minor": 0
      },
      "text/plain": [
       "HBox(children=(FloatProgress(value=0.0, max=122410125.0), HTML(value='')))"
      ]
     },
     "metadata": {},
     "output_type": "display_data"
    },
    {
     "name": "stdout",
     "output_type": "stream",
     "text": [
      "\n",
      "Loaded pretrained weights for efficientnet-b5\n"
     ]
    }
   ],
   "source": [
    "from efficientnet_pytorch import EfficientNet\n",
    "model = EfficientNet.from_pretrained('efficientnet-b5')"
   ]
  },
  {
   "cell_type": "code",
   "execution_count": 6,
   "metadata": {
    "execution": {
     "iopub.execute_input": "2021-01-24T01:30:30.839937Z",
     "iopub.status.busy": "2021-01-24T01:30:30.839272Z",
     "iopub.status.idle": "2021-01-24T01:30:31.862649Z",
     "shell.execute_reply": "2021-01-24T01:30:31.861944Z"
    },
    "papermill": {
     "duration": 1.068368,
     "end_time": "2021-01-24T01:30:31.862762",
     "exception": false,
     "start_time": "2021-01-24T01:30:30.794394",
     "status": "completed"
    },
    "tags": []
   },
   "outputs": [
    {
     "data": {
      "text/plain": [
       "torch.Size([1, 2048, 8, 8])"
      ]
     },
     "execution_count": 6,
     "metadata": {},
     "output_type": "execute_result"
    }
   ],
   "source": [
    "import torch\n",
    "inputs=torch.zeros((1,3,256,256))\n",
    "outputs=model.extract_features(inputs)\n",
    "outputs.shape"
   ]
  },
  {
   "cell_type": "code",
   "execution_count": 7,
   "metadata": {
    "execution": {
     "iopub.execute_input": "2021-01-24T01:30:31.959534Z",
     "iopub.status.busy": "2021-01-24T01:30:31.958626Z",
     "iopub.status.idle": "2021-01-24T01:30:34.741148Z",
     "shell.execute_reply": "2021-01-24T01:30:34.739918Z"
    },
    "papermill": {
     "duration": 2.839425,
     "end_time": "2021-01-24T01:30:34.741286",
     "exception": false,
     "start_time": "2021-01-24T01:30:31.901861",
     "status": "completed"
    },
    "tags": []
   },
   "outputs": [],
   "source": [
    "import warnings\n",
    "warnings.filterwarnings('ignore')\n",
    "\n",
    "import numpy as np\n",
    "import pandas as pd\n",
    "import pathlib, sys, os, random, time\n",
    "import numba, cv2, gc\n",
    "import glob\n",
    "import tifffile\n",
    "from sklearn.model_selection import KFold\n",
    "\n",
    "import matplotlib.pyplot as plt\n",
    "%matplotlib inline\n",
    "\n",
    "from tqdm.notebook import tqdm\n",
    "import albumentations as A\n",
    "import rasterio\n",
    "from rasterio.windows import Window\n",
    "\n",
    "import torch\n",
    "import torch.nn as nn\n",
    "import torch.nn.functional as F\n",
    "import torch.utils.data as D\n",
    "\n",
    "import torchvision\n",
    "from torchvision import transforms as T\n",
    "\n",
    "def set_seeds(seed=2021):\n",
    "    random.seed(seed)\n",
    "    os.environ['PYTHONHASHSEED'] = str(seed)\n",
    "    np.random.seed(seed)\n",
    "    torch.manual_seed(seed)\n",
    "    torch.cuda.manual_seed(seed)\n",
    "    torch.cuda.manual_seed_all(seed)\n",
    "    torch.backends.cudnn.deterministic = True\n",
    "    torch.backends.cudnn.benchmark = True\n",
    "    \n",
    "set_seeds()"
   ]
  },
  {
   "cell_type": "code",
   "execution_count": 8,
   "metadata": {
    "execution": {
     "iopub.execute_input": "2021-01-24T01:30:35.188014Z",
     "iopub.status.busy": "2021-01-24T01:30:35.186744Z",
     "iopub.status.idle": "2021-01-24T01:30:35.191821Z",
     "shell.execute_reply": "2021-01-24T01:30:35.192274Z"
    },
    "papermill": {
     "duration": 0.410438,
     "end_time": "2021-01-24T01:30:35.192411",
     "exception": false,
     "start_time": "2021-01-24T01:30:34.781973",
     "status": "completed"
    },
    "tags": []
   },
   "outputs": [
    {
     "name": "stdout",
     "output_type": "stream",
     "text": [
      "cuda\n"
     ]
    }
   ],
   "source": [
    "DATA_PATH = '../input/hubmap-kidney-segmentation/'\n",
    "DEVICE = 'cuda' if torch.cuda.is_available() else 'cpu' \n",
    "print(DEVICE)\n",
    "\n",
    "import logging\n",
    "\n",
    "logging.basicConfig(filename='log.log',\n",
    "                    format='%(asctime)s - %(name)s - %(levelname)s -%(module)s:  %(message)s',\n",
    "                    datefmt='%Y-%m-%d %H:%M:%S ',\n",
    "                    level=logging.INFO)"
   ]
  },
  {
   "cell_type": "code",
   "execution_count": 9,
   "metadata": {
    "execution": {
     "iopub.execute_input": "2021-01-24T01:30:35.279294Z",
     "iopub.status.busy": "2021-01-24T01:30:35.278676Z",
     "iopub.status.idle": "2021-01-24T01:30:35.528884Z",
     "shell.execute_reply": "2021-01-24T01:30:35.529358Z"
    },
    "papermill": {
     "duration": 0.2965,
     "end_time": "2021-01-24T01:30:35.529533",
     "exception": false,
     "start_time": "2021-01-24T01:30:35.233033",
     "status": "completed"
    },
    "tags": []
   },
   "outputs": [
    {
     "name": "stdout",
     "output_type": "stream",
     "text": [
      "['2f6ecfcdf' 'aaa6a05cc' 'cb2d976f4' '0486052bb' 'e79de561c']\n"
     ]
    },
    {
     "data": {
      "text/html": [
       "<div>\n",
       "<style scoped>\n",
       "    .dataframe tbody tr th:only-of-type {\n",
       "        vertical-align: middle;\n",
       "    }\n",
       "\n",
       "    .dataframe tbody tr th {\n",
       "        vertical-align: top;\n",
       "    }\n",
       "\n",
       "    .dataframe thead th {\n",
       "        text-align: right;\n",
       "    }\n",
       "</style>\n",
       "<table border=\"1\" class=\"dataframe\">\n",
       "  <thead>\n",
       "    <tr style=\"text-align: right;\">\n",
       "      <th></th>\n",
       "      <th>encoding</th>\n",
       "    </tr>\n",
       "    <tr>\n",
       "      <th>id</th>\n",
       "      <th></th>\n",
       "    </tr>\n",
       "  </thead>\n",
       "  <tbody>\n",
       "    <tr>\n",
       "      <th>2f6ecfcdf</th>\n",
       "      <td>296084587 4 296115835 6 296115859 14 296147109...</td>\n",
       "    </tr>\n",
       "    <tr>\n",
       "      <th>aaa6a05cc</th>\n",
       "      <td>30989109 59 31007591 64 31026074 68 31044556 7...</td>\n",
       "    </tr>\n",
       "    <tr>\n",
       "      <th>cb2d976f4</th>\n",
       "      <td>78144363 5 78179297 15 78214231 25 78249165 35...</td>\n",
       "    </tr>\n",
       "    <tr>\n",
       "      <th>0486052bb</th>\n",
       "      <td>101676003 6 101701785 8 101727568 9 101753351 ...</td>\n",
       "    </tr>\n",
       "    <tr>\n",
       "      <th>e79de561c</th>\n",
       "      <td>7464094 14 7480273 41 7496453 67 7512632 82 75...</td>\n",
       "    </tr>\n",
       "  </tbody>\n",
       "</table>\n",
       "</div>"
      ],
      "text/plain": [
       "                                                    encoding\n",
       "id                                                          \n",
       "2f6ecfcdf  296084587 4 296115835 6 296115859 14 296147109...\n",
       "aaa6a05cc  30989109 59 31007591 64 31026074 68 31044556 7...\n",
       "cb2d976f4  78144363 5 78179297 15 78214231 25 78249165 35...\n",
       "0486052bb  101676003 6 101701785 8 101727568 9 101753351 ...\n",
       "e79de561c  7464094 14 7480273 41 7496453 67 7512632 82 75..."
      ]
     },
     "execution_count": 9,
     "metadata": {},
     "output_type": "execute_result"
    }
   ],
   "source": [
    "data_information=pd.read_csv('../input/hubmap-kidney-segmentation/train.csv',\n",
    "                               index_col=[0])\n",
    "print(data_information.index.values[:5])\n",
    "data_information.head()"
   ]
  },
  {
   "cell_type": "code",
   "execution_count": 10,
   "metadata": {
    "execution": {
     "iopub.execute_input": "2021-01-24T01:30:35.645639Z",
     "iopub.status.busy": "2021-01-24T01:30:35.628331Z",
     "iopub.status.idle": "2021-01-24T01:30:35.647996Z",
     "shell.execute_reply": "2021-01-24T01:30:35.648450Z"
    },
    "papermill": {
     "duration": 0.076909,
     "end_time": "2021-01-24T01:30:35.648572",
     "exception": false,
     "start_time": "2021-01-24T01:30:35.571663",
     "status": "completed"
    },
    "tags": []
   },
   "outputs": [],
   "source": [
    "# used for converting the decoded image to rle mask\n",
    "def rle_encode(im):\n",
    "    '''\n",
    "    im: numpy array, 1 - mask, 0 - background\n",
    "    Returns run length as string formated\n",
    "    '''\n",
    "    pixels = im.flatten(order = 'F')\n",
    "    pixels = np.concatenate([[0], pixels, [0]])\n",
    "    runs = np.where(pixels[1:] != pixels[:-1])[0] + 1\n",
    "    runs[1::2] -= runs[::2]\n",
    "    return ' '.join(str(x) for x in runs)\n",
    "\n",
    "def rle_decode(mask_rle, shape=(256, 256)):\n",
    "    '''\n",
    "    mask_rle: run-length as string formated (start length)\n",
    "    shape: (height,width) of array to return \n",
    "    Returns numpy array, 1 - mask, 0 - background\n",
    "\n",
    "    '''\n",
    "    s = mask_rle.split()\n",
    "    starts, lengths = [np.asarray(x, dtype=int) for x in (s[0:][::2], s[1:][::2])]\n",
    "    starts -= 1\n",
    "    ends = starts + lengths\n",
    "    img = np.zeros(shape[0]*shape[1], dtype=np.uint8)\n",
    "    for lo, hi in zip(starts, ends):\n",
    "        img[lo:hi] = 1\n",
    "    return img.reshape(shape, order='F')\n",
    "\n",
    "@numba.njit()\n",
    "def rle_numba(pixels):\n",
    "    size = len(pixels)\n",
    "    points = []\n",
    "    if pixels[0] == 1: points.append(0)\n",
    "    flag = True\n",
    "    for i in range(1, size):\n",
    "        if pixels[i] != pixels[i-1]:\n",
    "            if flag:\n",
    "                points.append(i+1)\n",
    "                flag = False\n",
    "            else:\n",
    "                points.append(i+1 - points[-1])\n",
    "                flag = True\n",
    "    if pixels[-1] == 1: points.append(size-points[-1]+1)    \n",
    "    return points\n",
    "\n",
    "def rle_numba_encode(image):\n",
    "    pixels = image.flatten(order = 'F')\n",
    "    points = rle_numba(pixels)\n",
    "    return ' '.join(str(x) for x in points)\n",
    "\n",
    "def make_grid(shape, window=256, min_overlap=32):\n",
    "    \"\"\"\n",
    "        Return Array of size (N,4), where N - number of tiles,\n",
    "        2nd axis represente slices: x1,x2,y1,y2 \n",
    "    \"\"\"\n",
    "    x, y = shape\n",
    "    nx = x // (window - min_overlap) + 1\n",
    "    x1 = np.linspace(0, x, num=nx, endpoint=False, dtype=np.int64)\n",
    "    x1[-1] = x - window\n",
    "    x2 = (x1 + window).clip(0, x)\n",
    "    ny = y // (window - min_overlap) + 1\n",
    "    y1 = np.linspace(0, y, num=ny, endpoint=False, dtype=np.int64)\n",
    "    y1[-1] = y - window\n",
    "    y2 = (y1 + window).clip(0, y)\n",
    "    slices = np.zeros((nx,ny, 4), dtype=np.int64)\n",
    "    \n",
    "    for i in range(nx):\n",
    "        for j in range(ny):\n",
    "            slices[i,j] = x1[i], x2[i], y1[j], y2[j]    \n",
    "    return slices.reshape(nx*ny,4)\n",
    "identity = rasterio.Affine(1, 0, 0, 0, 1, 0)"
   ]
  },
  {
   "cell_type": "code",
   "execution_count": 11,
   "metadata": {
    "execution": {
     "iopub.execute_input": "2021-01-24T01:30:35.767234Z",
     "iopub.status.busy": "2021-01-24T01:30:35.759053Z",
     "iopub.status.idle": "2021-01-24T01:30:35.769987Z",
     "shell.execute_reply": "2021-01-24T01:30:35.769487Z"
    },
    "papermill": {
     "duration": 0.073732,
     "end_time": "2021-01-24T01:30:35.770079",
     "exception": false,
     "start_time": "2021-01-24T01:30:35.696347",
     "status": "completed"
    },
    "tags": []
   },
   "outputs": [],
   "source": [
    "class HubDataset(D.Dataset):\n",
    "\n",
    "    def __init__(self, path, tiff_ids, transform,\n",
    "                 window=256, overlap=32, threshold = 100, isvalid=False):\n",
    "        self.path = pathlib.Path(path)\n",
    "        self.tiff_ids = tiff_ids\n",
    "        #切分一张tiff时，生成的多张图片中的重合度\n",
    "        self.overlap = overlap\n",
    "        self.window = window\n",
    "        self.transform = transform\n",
    "        #取tiff文件的名字\n",
    "        self.csv = pd.read_csv((self.path / 'train.csv').as_posix(),\n",
    "                               index_col=[0])\n",
    "        self.threshold = threshold\n",
    "        #是否生成验证集\n",
    "        self.isvalid = isvalid\n",
    "        \n",
    "        self.x, self.y, self.id = [], [], []\n",
    "        self.build_slices()\n",
    "        self.len = len(self.x)\n",
    "        self.as_tensor = T.Compose([\n",
    "            T.ToTensor(),\n",
    "            T.Normalize([0.625, 0.448, 0.688],\n",
    "                        [0.131, 0.177, 0.101]),\n",
    "        ])\n",
    "        \n",
    "    \n",
    "    def build_slices(self):\n",
    "        self.masks = []\n",
    "        self.files = []\n",
    "        self.slices = []\n",
    "        #遍历每一张图片\n",
    "        for i, filename in enumerate(self.csv.index.values):\n",
    "            #csv中的tiff文件在train数据中不存在\n",
    "            if not filename in self.tiff_ids:\n",
    "                continue\n",
    "            \n",
    "            filepath = (self.path /'train'/(filename+'.tiff')).as_posix()\n",
    "            self.files.append(filepath)\n",
    "            \n",
    "            # print('Transform', filename)\n",
    "            #打开一个栅格化的文件\n",
    "            with rasterio.open(filepath, transform = identity) as dataset:\n",
    "                #对一个tiff的标签数据进行解码成mask图片\n",
    "                self.masks.append(rle_decode(self.csv.loc[filename, 'encoding'], dataset.shape))\n",
    "                #对一个tiff图片进行切分，返回的是切分的坐标列表\n",
    "                slices = make_grid(dataset.shape, window=self.window, min_overlap=self.overlap)\n",
    "                \n",
    "                for slc in slices:\n",
    "                    x1,x2,y1,y2 = slc\n",
    "                    # print(slc)\n",
    "                    #根据坐标对一个tiff进行切分\n",
    "                    image = dataset.read([1,2,3],\n",
    "                            window=Window.from_slices((x1,x2),(y1,y2)))\n",
    "                    #通道转换(3,256,256)-》(256,256，3)\n",
    "                    image = np.moveaxis(image, 0, -1)\n",
    "\n",
    "                    image = cv2.resize(image, (256, 256))\n",
    "                    #根据坐标也对一个masks进行切分\n",
    "                    masks = cv2.resize(self.masks[-1][x1:x2,y1:y2], (256, 256))\n",
    "                    \n",
    "                    if self.isvalid:\n",
    "                        #如果生成验证集，把切分的坐标记下，文件id名也记下\n",
    "                        self.slices.append([i,x1,x2,y1,y2])\n",
    "                        self.x.append(image)\n",
    "                        self.y.append(masks)\n",
    "                        self.id.append(filename)\n",
    "                    else:\n",
    "                        #如果生成训练集，就对训练集中mask像素值sum大于阈值的进行筛选\n",
    "                        #像素值mean大于阈值的操作是为了增加一些标签白色处较少的标签数据\n",
    "                        #efficientnet-b5-ASSP-(image>32).mean() > 0.50-loss_fn_ratio=0.8  score0.848 \n",
    "                        if self.masks[-1][x1:x2,y1:y2].sum() >= self.threshold or (image>32).mean() > 0.50:\n",
    "                            self.slices.append([i,x1,x2,y1,y2])\n",
    "                            self.x.append(image)\n",
    "                            self.y.append(masks)\n",
    "                            self.id.append(filename)\n",
    "    \n",
    "    # get data operation\n",
    "    def __getitem__(self, index):\n",
    "        image, mask = self.x[index], self.y[index]\n",
    "        #数据增强\n",
    "        augments = self.transform(image=image, mask=mask)\n",
    "        return self.as_tensor(augments['image']), augments['mask'][None]\n",
    "    \n",
    "    def __len__(self):\n",
    "        \"\"\"\n",
    "        Total number of samples in the dataset\n",
    "        \"\"\"\n",
    "        self.len = len(self.x)\n",
    "        return self.len"
   ]
  },
  {
   "cell_type": "code",
   "execution_count": 12,
   "metadata": {
    "execution": {
     "iopub.execute_input": "2021-01-24T01:30:35.897867Z",
     "iopub.status.busy": "2021-01-24T01:30:35.897047Z",
     "iopub.status.idle": "2021-01-24T01:30:35.901323Z",
     "shell.execute_reply": "2021-01-24T01:30:35.900804Z"
    },
    "papermill": {
     "duration": 0.052569,
     "end_time": "2021-01-24T01:30:35.901414",
     "exception": false,
     "start_time": "2021-01-24T01:30:35.848845",
     "status": "completed"
    },
    "tags": []
   },
   "outputs": [],
   "source": [
    "import functools\n",
    "import torch.utils.model_zoo as model_zoo\n",
    "from torchvision.models.resnet import ResNet\n",
    "from torchvision.models.resnet import BasicBlock\n",
    "from torchvision.models.resnet import Bottleneck\n",
    "#导入torchvision_models中各种模型的参数设置，可以用于设置torchvision中的模型\n",
    "from pretrainedmodels.models.torchvision_models import pretrained_settings\n",
    "import torch\n",
    "import torch.nn as nn\n",
    "import torch.nn.functional as F\n",
    "import numpy as np"
   ]
  },
  {
   "cell_type": "code",
   "execution_count": 13,
   "metadata": {
    "execution": {
     "iopub.execute_input": "2021-01-24T01:30:36.008826Z",
     "iopub.status.busy": "2021-01-24T01:30:36.004418Z",
     "iopub.status.idle": "2021-01-24T01:30:36.011791Z",
     "shell.execute_reply": "2021-01-24T01:30:36.011151Z"
    },
    "papermill": {
     "duration": 0.070088,
     "end_time": "2021-01-24T01:30:36.011888",
     "exception": false,
     "start_time": "2021-01-24T01:30:35.941800",
     "status": "completed"
    },
    "tags": []
   },
   "outputs": [],
   "source": [
    "class _ASPPModule(nn.Module):\n",
    "    def __init__(self, inplanes, planes, kernel_size, padding, dilation):\n",
    "        super(_ASPPModule, self).__init__()\n",
    "        self.atrous_conv = nn.Conv2d(inplanes, planes, kernel_size=kernel_size,\n",
    "                                     stride=1, padding=padding, dilation=dilation, bias=False)\n",
    "        self.bn = nn.BatchNorm2d(planes)\n",
    "        self.relu = nn.ReLU()\n",
    "\n",
    "        self._init_weight()\n",
    "\n",
    "    def forward(self, x):\n",
    "        x = self.atrous_conv(x)\n",
    "        x = self.bn(x)\n",
    "\n",
    "        return self.relu(x)\n",
    "\n",
    "    def _init_weight(self):\n",
    "        for m in self.modules():\n",
    "            if isinstance(m, nn.Conv2d):\n",
    "                torch.nn.init.kaiming_normal_(m.weight)\n",
    "            elif isinstance(m, nn.BatchNorm2d):\n",
    "                m.weight.data.fill_(1)\n",
    "                m.bias.data.zero_()\n",
    "\n",
    "\n",
    "class ASPP(nn.Module):\n",
    "    def __init__(self, inplanes=512, mid_c=256, dilations=[1, 6, 12, 18,24]):\n",
    "        super(ASPP, self).__init__()\n",
    "        self.aspp1 = _ASPPModule(inplanes, mid_c, 1, padding=0, dilation=dilations[0])\n",
    "        self.aspp2 = _ASPPModule(inplanes, mid_c, 3, padding=dilations[1], dilation=dilations[1])\n",
    "        self.aspp3 = _ASPPModule(inplanes, mid_c, 3, padding=dilations[2], dilation=dilations[2])\n",
    "        self.aspp4 = _ASPPModule(inplanes, mid_c, 3, padding=dilations[3], dilation=dilations[3])\n",
    "        self.global_avg_pool = nn.Sequential(nn.AdaptiveAvgPool2d((1, 1)),\n",
    "                                             nn.Conv2d(inplanes, mid_c, 1, stride=1, bias=False),\n",
    "                                             nn.BatchNorm2d(mid_c),\n",
    "                                             nn.ReLU())\n",
    "        self.conv1 = nn.Conv2d(mid_c * 5, mid_c, 1, bias=False)\n",
    "        self.bn1 = nn.BatchNorm2d(mid_c)\n",
    "        self.relu = nn.ReLU()\n",
    "        self.dropout = nn.Dropout(0.5)\n",
    "        self._init_weight()\n",
    "\n",
    "    def forward(self, x):\n",
    "        x1 = self.aspp1(x)\n",
    "        x2 = self.aspp2(x)\n",
    "        x3 = self.aspp3(x)\n",
    "        x4 = self.aspp4(x)\n",
    "        x5 = self.global_avg_pool(x)\n",
    "        x5 = F.interpolate(x5, size=x4.size()[2:], mode='bilinear', align_corners=True)\n",
    "        x = torch.cat((x1, x2, x3, x4,x5), dim=1)\n",
    "\n",
    "        x = self.conv1(x)\n",
    "        x = self.bn1(x)\n",
    "        x = self.relu(x)\n",
    "\n",
    "        return self.dropout(x)\n",
    "\n",
    "    def _init_weight(self):\n",
    "        for m in self.modules():\n",
    "            if isinstance(m, nn.Conv2d):\n",
    "                torch.nn.init.kaiming_normal_(m.weight)\n",
    "            elif isinstance(m, nn.BatchNorm2d):\n",
    "                m.weight.data.fill_(1)\n",
    "                m.bias.data.zero_()\n"
   ]
  },
  {
   "cell_type": "code",
   "execution_count": 14,
   "metadata": {
    "execution": {
     "iopub.execute_input": "2021-01-24T01:30:36.109258Z",
     "iopub.status.busy": "2021-01-24T01:30:36.105189Z",
     "iopub.status.idle": "2021-01-24T01:30:36.111955Z",
     "shell.execute_reply": "2021-01-24T01:30:36.111410Z"
    },
    "papermill": {
     "duration": 0.060776,
     "end_time": "2021-01-24T01:30:36.112095",
     "exception": false,
     "start_time": "2021-01-24T01:30:36.051319",
     "status": "completed"
    },
    "tags": []
   },
   "outputs": [],
   "source": [
    "def train(model, train_loader, criterion, optimizer):\n",
    "    losses = []\n",
    "    for i, (image, target) in enumerate(train_loader):\n",
    "        #target为mask的图片（258,256,1）\n",
    "        image, target = image.to(DEVICE), target.float().to(DEVICE)\n",
    "        #梯度归零\n",
    "        optimizer.zero_grad()\n",
    "        \n",
    "        output = model(image)\n",
    "        #计算损失\n",
    "        loss = criterion(output, target, 0.2, False)\n",
    "        loss.backward()\n",
    "        optimizer.step()\n",
    "        losses.append(loss.item())\n",
    "#         print('train, ', loss.item())\n",
    "    return np.array(losses).mean()\n",
    "\n",
    "def np_dice_score(probability, mask,threshold=0.5):\n",
    "    p = probability.reshape(-1)\n",
    "    t = mask.reshape(-1)\n",
    "\n",
    "    p = p>threshold\n",
    "    t = t>threshold\n",
    "    uion = p.sum() + t.sum()\n",
    "    \n",
    "    overlap = (p*t).sum()\n",
    "    dice = 2*overlap/(uion+0.001)\n",
    "    return dice\n",
    "\n",
    "def validation(model, val_loader, criterion,threshold=0.5):\n",
    "    val_probability, val_mask = [], []\n",
    "    model.eval()\n",
    "    with torch.no_grad():\n",
    "        for image, target in val_loader:\n",
    "            image, target = image.to(DEVICE), target.float().to(DEVICE)\n",
    "            output = model(image)\n",
    "            \n",
    "            output_ny = output.sigmoid().data.cpu().numpy()\n",
    "            target_np = target.data.cpu().numpy()\n",
    "            \n",
    "            val_probability.append(output_ny)\n",
    "            val_mask.append(target_np)\n",
    "            \n",
    "    val_probability = np.concatenate(val_probability)\n",
    "    val_mask = np.concatenate(val_mask)\n",
    "    \n",
    "    return np_dice_score(val_probability, val_mask,threshold=threshold)"
   ]
  },
  {
   "cell_type": "code",
   "execution_count": 15,
   "metadata": {
    "execution": {
     "iopub.execute_input": "2021-01-24T01:30:36.199910Z",
     "iopub.status.busy": "2021-01-24T01:30:36.198859Z",
     "iopub.status.idle": "2021-01-24T01:30:36.231803Z",
     "shell.execute_reply": "2021-01-24T01:30:36.232342Z"
    },
    "papermill": {
     "duration": 0.080572,
     "end_time": "2021-01-24T01:30:36.232491",
     "exception": false,
     "start_time": "2021-01-24T01:30:36.151919",
     "status": "completed"
    },
    "tags": []
   },
   "outputs": [],
   "source": [
    "import torch\n",
    "from torch.autograd import Variable\n",
    "import torch.nn.functional as F\n",
    "import numpy as np\n",
    "\n",
    "class Lovasz_Binary_Losses(nn.Module):\n",
    "    def __init__(self, per_image=True, ignore=None):\n",
    "        super(Lovasz_Binary_Losses, self).__init__()\n",
    "        self.per_image = per_image\n",
    "        self.ignore = ignore\n",
    "    \n",
    "    def forward(self, x, y):\n",
    "        \n",
    "        return self.lovasz_hinge(x,y,self.per_image,self.ignore)\n",
    "        \n",
    "    def lovasz_grad(self,gt_sorted):\n",
    "        \"\"\"\n",
    "        Computes gradient of the Lovasz extension w.r.t sorted errors\n",
    "        See Alg. 1 in paper\n",
    "        \"\"\"\n",
    "        p = len(gt_sorted)\n",
    "        gts = gt_sorted.sum()\n",
    "        intersection = gts - gt_sorted.float().cumsum(0)\n",
    "        union = gts + (1 - gt_sorted).float().cumsum(0)\n",
    "        jaccard = 1. - intersection / union\n",
    "        if p > 1: # cover 1-pixel case\n",
    "            jaccard[1:p] = jaccard[1:p] - jaccard[0:-1]\n",
    "        return jaccard\n",
    "    # --------------------------- BINARY LOSSES ---------------------------\n",
    "    def lovasz_hinge(self,logits, labels, per_image=True, ignore=None):\n",
    "        \"\"\"\n",
    "        Binary Lovasz hinge loss\n",
    "          logits: [B, H, W] Variable, logits at each pixel (between -\\infty and +\\infty)\n",
    "          labels: [B, H, W] Tensor, binary ground truth masks (0 or 1)\n",
    "          per_image: compute the loss per image instead of per batch\n",
    "          ignore: void class id\n",
    "        \"\"\"\n",
    "        if per_image:\n",
    "            loss_list=torch.tensor([self.lovasz_hinge_flat(*self.flatten_binary_scores(log.unsqueeze(0), lab.unsqueeze(0), ignore))\n",
    "                              for log, lab in zip(logits, labels)])\n",
    "            loss = torch.mean(loss_list)\n",
    "        else:\n",
    "            loss = self.lovasz_hinge_flat(*self.flatten_binary_scores(logits, labels, ignore))\n",
    "        return loss\n",
    "\n",
    "    def lovasz_hinge_flat(self,logits, labels):\n",
    "        \"\"\"\n",
    "        Binary Lovasz hinge loss\n",
    "          logits: [P] Variable, logits at each prediction (between -\\infty and +\\infty)\n",
    "          labels: [P] Tensor, binary ground truth labels (0 or 1)\n",
    "          ignore: label to ignore\n",
    "        \"\"\"\n",
    "        if len(labels) == 0:\n",
    "            # only void pixels, the gradients should be 0\n",
    "            return logits.sum() * 0.\n",
    "        signs = 2. * labels.float() - 1.\n",
    "        errors = (1. - logits * Variable(signs))\n",
    "        errors_sorted, perm = torch.sort(errors, dim=0, descending=True)\n",
    "        perm = perm.data\n",
    "        gt_sorted = labels[perm]\n",
    "        grad = self.lovasz_grad(gt_sorted)\n",
    "        loss = torch.dot(F.relu(errors_sorted), Variable(grad))\n",
    "        return loss\n",
    "\n",
    "    def flatten_binary_scores(self,scores, labels, ignore=None):\n",
    "        \"\"\"\n",
    "        Flattens predictions in the batch (binary case)\n",
    "        Remove labels equal to 'ignore'\n",
    "        \"\"\"\n",
    "        scores = scores.view(-1)\n",
    "        labels = labels.view(-1)\n",
    "        if ignore is None:\n",
    "            return scores, labels\n",
    "        valid = (labels != ignore)\n",
    "        vscores = scores[valid]\n",
    "        vlabels = labels[valid]\n",
    "        return vscores, vlabels\n",
    "\n",
    "\n",
    "\n",
    "class SoftDiceLoss(nn.Module):\n",
    "    def __init__(self, smooth=1., dims=(-2,-1)):\n",
    "        super(SoftDiceLoss, self).__init__()\n",
    "        self.smooth = smooth\n",
    "        self.dims = dims\n",
    "    \n",
    "    def forward(self, x, y):\n",
    "        tp = (x * y).sum(self.dims)\n",
    "        fp = (x * (1 - y)).sum(self.dims)\n",
    "        fn = ((1 - x) * y).sum(self.dims)\n",
    "        dc = (2 * tp + self.smooth) / (2 * tp + fp + fn + self.smooth)\n",
    "        dc = dc.mean()\n",
    "        \n",
    "        return 1 - dc\n",
    "\n",
    "bce_fn = nn.BCEWithLogitsLoss()\n",
    "Lovasz_fn=Lovasz_Binary_Losses()\n",
    "dice_fn = SoftDiceLoss()\n",
    "    \n",
    "def loss_fn(y_pred, y_true, ratio=1, hard=False):\n",
    "    bce = bce_fn(y_pred, y_true)\n",
    "#     lovasz=Lovasz_fn(y_pred, y_true)\n",
    "    lovasz=(Lovasz_fn(y_pred, y_true) + Lovasz_fn(-y_pred, 1 - y_true)) / 2\n",
    "    if hard:\n",
    "        dice = dice_fn((y_pred.sigmoid()).float() > 0.5, y_true)\n",
    "    else:\n",
    "        dice = dice_fn(y_pred.sigmoid(), y_true)\n",
    "    return ratio*bce + (1-ratio)*lovasz"
   ]
  },
  {
   "cell_type": "code",
   "execution_count": 16,
   "metadata": {
    "execution": {
     "iopub.execute_input": "2021-01-24T01:30:36.320095Z",
     "iopub.status.busy": "2021-01-24T01:30:36.319164Z",
     "iopub.status.idle": "2021-01-24T01:30:36.330535Z",
     "shell.execute_reply": "2021-01-24T01:30:36.329840Z"
    },
    "papermill": {
     "duration": 0.058715,
     "end_time": "2021-01-24T01:30:36.330640",
     "exception": false,
     "start_time": "2021-01-24T01:30:36.271925",
     "status": "completed"
    },
    "tags": []
   },
   "outputs": [],
   "source": [
    "EPOCHES = 15\n",
    "BATCH_SIZE = 8\n",
    "\n",
    "WINDOW=1024\n",
    "MIN_OVERLAP=40\n",
    "NEW_SIZE=256\n",
    "\n",
    "train_trfm = A.Compose([\n",
    "    A.Resize(NEW_SIZE, NEW_SIZE),\n",
    "    A.HorizontalFlip(p=0.5),\n",
    "    A.VerticalFlip(p=0.5),\n",
    "    A.RandomRotate90(),\n",
    "    A.GaussNoise(),\n",
    "    A.ShiftScaleRotate(shift_limit=0.2, scale_limit=0.2, rotate_limit=30, p=0.5),\n",
    "    A.HueSaturationValue(hue_shift_limit=25, sat_shift_limit=25, val_shift_limit=25, p=0.5),\n",
    "    A.RGBShift(r_shift_limit=25, g_shift_limit=25, b_shift_limit=25, p=0.5),\n",
    "#     A.ElasticTransform(alpha=1, sigma=50, alpha_affine=50, p=0.3),\n",
    "    A.RandomContrast(),\n",
    "    A.OneOf([\n",
    "        A.RandomBrightnessContrast(brightness_limit=0.3, contrast_limit=0.3, p=0.5),   \n",
    "        A.RandomGamma(),\n",
    "        A.RandomBrightness(),\n",
    "        A.ColorJitter(brightness=0.07, contrast=0.07,\n",
    "                   saturation=0.1, hue=0.1, always_apply=False, p=0.3),\n",
    "        ], p=0.3),\n",
    "])\n",
    "\n",
    "val_trfm = A.Compose([\n",
    "    A.Resize(NEW_SIZE,NEW_SIZE),\n",
    "    A.HorizontalFlip(p=0.5),\n",
    "    A.VerticalFlip(p=0.5),\n",
    "    A.RandomRotate90(),\n",
    "])\n",
    "\n",
    "# 每个file单独做一个验证集\n",
    "tiff_ids = np.array([x.split('/')[-1][:-5] for x in glob.glob('../input/hubmap-kidney-segmentation/train/*.tiff')])\n",
    "skf = KFold(n_splits=8)"
   ]
  },
  {
   "cell_type": "code",
   "execution_count": 17,
   "metadata": {
    "execution": {
     "iopub.execute_input": "2021-01-24T01:30:36.425221Z",
     "iopub.status.busy": "2021-01-24T01:30:36.424265Z",
     "iopub.status.idle": "2021-01-24T03:00:17.045743Z",
     "shell.execute_reply": "2021-01-24T03:00:17.044763Z"
    },
    "papermill": {
     "duration": 5380.675213,
     "end_time": "2021-01-24T03:00:17.045898",
     "exception": false,
     "start_time": "2021-01-24T01:30:36.370685",
     "status": "completed"
    },
    "tags": []
   },
   "outputs": [
    {
     "name": "stdout",
     "output_type": "stream",
     "text": [
      "['095bf7a1f']\n",
      "加载数据中\n",
      "6324 1560\n",
      "定义training和validation的dataloader\n",
      "定义模型中...\n",
      "开始训练\n",
      "\n",
      "            Train | Valid\n",
      "    Epoch |  Loss |  Dice (Best) | Time\n",
      "    \n",
      "best_savefold_0.pth \n",
      "epoch: 1 train_loss: 0.31218383210925593 val_dice: 0.8450332498554345 best_dice: 0.8450332498554345\n",
      "best_savefold_0.pth \n",
      "epoch: 2 train_loss: 0.21745244597708896 val_dice: 0.8541396200208021 best_dice: 0.8541396200208021\n",
      "best_savefold_0.pth \n",
      "epoch: 3 train_loss: 0.1974938310650354 val_dice: 0.8643081240144666 best_dice: 0.8643081240144666\n",
      "epoch: 4 train_loss: 0.190226041903289 val_dice: 0.8491368903578506 best_dice: 0.8643081240144666\n",
      "best_savefold_0.pth \n",
      "epoch: 5 train_loss: 0.16415569658225948 val_dice: 0.874287969397852 best_dice: 0.874287969397852\n",
      "epoch: 6 train_loss: 0.16010863586136248 val_dice: 0.8717586814123004 best_dice: 0.874287969397852\n",
      "epoch: 7 train_loss: 0.15995323518526894 val_dice: 0.8645893235694059 best_dice: 0.874287969397852\n",
      "best_savefold_0.pth \n",
      "epoch: 8 train_loss: 0.1512955832473749 val_dice: 0.8807489961087949 best_dice: 0.8807489961087949\n",
      "epoch: 9 train_loss: 0.14758628935737703 val_dice: 0.8763746339262142 best_dice: 0.8807489961087949\n",
      "best_savefold_0.pth \n",
      "epoch: 10 train_loss: 0.1500357289825313 val_dice: 0.8826470948945557 best_dice: 0.8826470948945557\n",
      "best_savefold_0.pth \n",
      "epoch: 11 train_loss: 0.1423842478827098 val_dice: 0.8852088547643701 best_dice: 0.8852088547643701\n",
      "best_savefold_0.pth \n",
      "epoch: 12 train_loss: 0.14070495991565415 val_dice: 0.8866905149433558 best_dice: 0.8866905149433558\n",
      "epoch: 13 train_loss: 0.13435492615237676 val_dice: 0.88217278553963 best_dice: 0.8866905149433558\n",
      "best_savefold_0.pth \n",
      "epoch: 14 train_loss: 0.13223247201328112 val_dice: 0.8881164364614655 best_dice: 0.8881164364614655\n",
      "epoch: 15 train_loss: 0.13744486083377513 val_dice: 0.8853237970248372 best_dice: 0.8881164364614655\n",
      "CPU times: user 1h 10min 36s, sys: 11min 28s, total: 1h 22min 4s\n",
      "Wall time: 1h 29min 40s\n"
     ]
    }
   ],
   "source": [
    "%%time\n",
    "for fold_idx, (train_idx, val_idx) in enumerate(skf.split(tiff_ids, tiff_ids)):\n",
    "    print(tiff_ids[val_idx])\n",
    "    print(\"加载数据中\")\n",
    "    # break\n",
    "    train_ds = HubDataset(DATA_PATH, tiff_ids, window=WINDOW, overlap=MIN_OVERLAP, \n",
    "                          threshold=100, transform=train_trfm, isvalid=False)\n",
    "    valid_ds = HubDataset(DATA_PATH, tiff_ids[val_idx], window=WINDOW, overlap=MIN_OVERLAP, \n",
    "                          threshold=100, transform=val_trfm, isvalid=True)\n",
    "\n",
    "    print(len(train_ds), len(valid_ds))\n",
    "    print(\"定义training和validation的dataloader\")\n",
    "    # define training and validation data loaders\n",
    "    train_loader = D.DataLoader(\n",
    "        train_ds, batch_size=BATCH_SIZE, shuffle=True, num_workers=12,drop_last=True)\n",
    "\n",
    "    val_loader = D.DataLoader(\n",
    "        valid_ds, batch_size=BATCH_SIZE, shuffle=False, num_workers=12,drop_last=True)\n",
    "    print(\"定义模型中...\")\n",
    "    #resnet50-score0.824     #se_resnet50-score0.815  #efficientnet-b5-score0.848\n",
    "    import segmentation_models_pytorch as smp\n",
    "    model=smp.Unet(\n",
    "        encoder_name='efficientnet-b5',\n",
    "        encoder_weights='imagenet',\n",
    "#         decoder_attention_type='scse',\n",
    "        in_channels= 3,\n",
    "        classes= 1)\n",
    "#    加上ASPP结构\n",
    "    model.decoder.center=ASPP(512,512)\n",
    "    \n",
    "    model.to(DEVICE)\n",
    "    optimizer = torch.optim.Adam(model.parameters(), lr=1e-3, betas=(0.9, 0.999), eps=1e-8, weight_decay=0)\n",
    "#     optimizer = torch.optim.AdamW(model.parameters(), lr=1e-3, weight_decay=1e-3)\n",
    "#     lr_step = torch.optim.lr_scheduler.CosineAnnealingWarmRestarts(optimizer, 2)\n",
    "    lr_step = torch.optim.lr_scheduler.ReduceLROnPlateau(optimizer, factor=0.5, patience=2)\n",
    "    \n",
    "    print(\"开始训练\")\n",
    "    header = r'''\n",
    "            Train | Valid\n",
    "    Epoch |  Loss |  Dice (Best) | Time\n",
    "    '''\n",
    "    print(header)\n",
    "    #          Epoch         metrics            time\n",
    "    raw_line = '{:6d}' + '\\u2502{:7.4f}'*3 + '\\u2502{:6.2f}'\n",
    "    \n",
    "    best_dice = 0\n",
    "    \n",
    "    for epoch in range(1, EPOCHES+1):\n",
    "        start_time = time.time()\n",
    "        model.train()\n",
    "        train_loss = train(model, train_loader, loss_fn, optimizer)\n",
    "        val_dice = validation(model, val_loader, loss_fn,0.5)\n",
    "        lr_step.step(val_dice)\n",
    "        \n",
    "        if val_dice > best_dice:\n",
    "            best_dice = val_dice\n",
    "            i=5\n",
    "            torch.save(model.state_dict(), './fold_{}.pth'.format(i))\n",
    "            print(\"best_savefold_{}.pth \".format(fold_idx))\n",
    "        print(\"epoch:\",epoch, \"train_loss:\",train_loss, \"val_dice:\",val_dice ,\"best_dice:\",best_dice)\n",
    "\n",
    "        \n",
    "    \n",
    "    del train_loader, val_loader, train_ds, valid_ds\n",
    "    gc.collect()\n",
    "    break\n",
    "    "
   ]
  },
  {
   "cell_type": "code",
   "execution_count": 18,
   "metadata": {
    "execution": {
     "iopub.execute_input": "2021-01-24T03:00:17.166619Z",
     "iopub.status.busy": "2021-01-24T03:00:17.162920Z",
     "iopub.status.idle": "2021-01-24T03:01:06.406625Z",
     "shell.execute_reply": "2021-01-24T03:01:06.405857Z"
    },
    "papermill": {
     "duration": 49.308879,
     "end_time": "2021-01-24T03:01:06.406759",
     "exception": false,
     "start_time": "2021-01-24T03:00:17.097880",
     "status": "completed"
    },
    "tags": []
   },
   "outputs": [],
   "source": [
    "for fold_idx, (train_idx, val_idx) in enumerate(skf.split(tiff_ids, tiff_ids)):\n",
    "    valid_ds = HubDataset(DATA_PATH, tiff_ids[val_idx], window=WINDOW, overlap=MIN_OVERLAP, \n",
    "                          threshold=100, transform=val_trfm, isvalid=True)\n",
    "    val_loader = D.DataLoader(\n",
    "        valid_ds, batch_size=BATCH_SIZE, shuffle=False, num_workers=12)\n",
    "    break\n"
   ]
  },
  {
   "cell_type": "code",
   "execution_count": 19,
   "metadata": {
    "execution": {
     "iopub.execute_input": "2021-01-24T03:01:06.525788Z",
     "iopub.status.busy": "2021-01-24T03:01:06.524913Z",
     "iopub.status.idle": "2021-01-24T03:01:09.534571Z",
     "shell.execute_reply": "2021-01-24T03:01:09.533967Z"
    },
    "papermill": {
     "duration": 3.077376,
     "end_time": "2021-01-24T03:01:09.534690",
     "exception": false,
     "start_time": "2021-01-24T03:01:06.457314",
     "status": "completed"
    },
    "tags": []
   },
   "outputs": [
    {
     "data": {
      "image/png": "[encoded data removed]",
      "text/plain": [
       "<Figure size 1152x576 with 4 Axes>"
      ]
     },
     "metadata": {
      "needs_background": "light"
     },
     "output_type": "display_data"
    },
    {
     "data": {
      "image/png": "[encoded data removed]",
      "text/plain": [
       "<Figure size 1152x576 with 4 Axes>"
      ]
     },
     "metadata": {
      "needs_background": "light"
     },
     "output_type": "display_data"
    }
   ],
   "source": [
    "i=5\n",
    "model.load_state_dict(torch.load(\"./fold_{}.pth\".format(i)))    \n",
    "model.eval()\n",
    "c = 1\n",
    "for idx in range(100, 200):\n",
    "    \n",
    "    image, mask = valid_ds[idx]\n",
    "    if mask.max() == 0:\n",
    "        continue\n",
    "    \n",
    "    c += 1\n",
    "    if c > 10:\n",
    "        continue\n",
    "    \n",
    "    plt.figure(figsize=(16,8))\n",
    "    plt.subplot(141)\n",
    "    plt.imshow(mask[0], cmap='gray')\n",
    "    plt.subplot(142)\n",
    "    plt.imshow(image[0]);\n",
    "\n",
    "    with torch.no_grad():\n",
    "        image = image.to(DEVICE)[None]\n",
    "            \n",
    "        score = model(image)[0][0]\n",
    "        #反转一下让模型识别\n",
    "        score2 = model(torch.flip(image, [0, 3]))\n",
    "#         print(score2.shape)\n",
    "        score2 = torch.flip(score2, [3, 0])[0][0]\n",
    "\n",
    "        score3 = model(torch.flip(image, [1, 2]))\n",
    "        score3 = torch.flip(score3, [2, 1])[0][0]\n",
    "\n",
    "        #同一图片三种不同方向让模型得出三个分数取平均\n",
    "        score_mean = (score + score2 + score3) / 3.0\n",
    "\n",
    "        score_sigmoid = score_mean.sigmoid().cpu().numpy()\n",
    "        score_sigmoid = cv2.resize(score_sigmoid, (WINDOW, WINDOW))\n",
    "\n",
    "        score = score.sigmoid().cpu().numpy()\n",
    "        score = cv2.resize(score, (WINDOW, WINDOW))\n",
    "\n",
    "\n",
    "    plt.subplot(143)\n",
    "    plt.imshow((score_sigmoid > 0.5).astype(int))\n",
    "\n",
    "    plt.subplot(144)\n",
    "    plt.imshow((score > 0.52).astype(int))"
   ]
  },
  {
   "cell_type": "code",
   "execution_count": 20,
   "metadata": {
    "execution": {
     "iopub.execute_input": "2021-01-24T03:01:09.654836Z",
     "iopub.status.busy": "2021-01-24T03:01:09.653991Z",
     "iopub.status.idle": "2021-01-24T03:07:27.543858Z",
     "shell.execute_reply": "2021-01-24T03:07:27.542848Z"
    },
    "papermill": {
     "duration": 377.953537,
     "end_time": "2021-01-24T03:07:27.544092",
     "exception": false,
     "start_time": "2021-01-24T03:01:09.590555",
     "status": "completed"
    },
    "tags": []
   },
   "outputs": [
    {
     "data": {
      "image/png": "[encoded data removed]",
      "text/plain": [
       "<Figure size 1152x576 with 1 Axes>"
      ]
     },
     "metadata": {
      "needs_background": "light"
     },
     "output_type": "display_data"
    },
    {
     "name": "stdout",
     "output_type": "stream",
     "text": [
      "CPU times: user 4min 55s, sys: 44.9 s, total: 5min 40s\n",
      "Wall time: 6min 17s\n"
     ]
    }
   ],
   "source": [
    "%%time\n",
    "#卡阈值\n",
    "i=5\n",
    "model.load_state_dict(torch.load(\"./fold_{}.pth\".format(i)))\n",
    "import seaborn as sns\n",
    "import numpy as np\n",
    "val_dice_list=[]\n",
    "x_list=[]\n",
    "for thres in np.linspace(0.3, 0.7, num=20):\n",
    "    x_list.append(thres)\n",
    "    val_dice = validation(model, val_loader, loss_fn,thres)\n",
    "    val_dice_list.append(val_dice)\n",
    "plt.figure(figsize=(16,8))\n",
    "ax = sns.lineplot(x=x_list, y=val_dice_list)\n",
    "plt.xlabel(\"threshold\")\n",
    "plt.ylabel(\"val_dice\")\n",
    "plt.show()"
   ]
  },
  {
   "cell_type": "code",
   "execution_count": 21,
   "metadata": {
    "execution": {
     "iopub.execute_input": "2021-01-24T03:07:27.733364Z",
     "iopub.status.busy": "2021-01-24T03:07:27.732409Z",
     "iopub.status.idle": "2021-01-24T03:07:27.738050Z",
     "shell.execute_reply": "2021-01-24T03:07:27.738930Z"
    },
    "papermill": {
     "duration": 0.103666,
     "end_time": "2021-01-24T03:07:27.739135",
     "exception": false,
     "start_time": "2021-01-24T03:07:27.635469",
     "status": "completed"
    },
    "tags": []
   },
   "outputs": [
    {
     "data": {
      "text/plain": [
       "0.4263157894736842"
      ]
     },
     "execution_count": 21,
     "metadata": {},
     "output_type": "execute_result"
    }
   ],
   "source": [
    "best_thres=x_list[np.argmax(val_dice_list)]\n",
    "best_thres"
   ]
  },
  {
   "cell_type": "code",
   "execution_count": 22,
   "metadata": {
    "execution": {
     "iopub.execute_input": "2021-01-24T03:07:27.933760Z",
     "iopub.status.busy": "2021-01-24T03:07:27.932661Z",
     "iopub.status.idle": "2021-01-24T03:32:29.917769Z",
     "shell.execute_reply": "2021-01-24T03:32:29.918548Z"
    },
    "papermill": {
     "duration": 1502.089796,
     "end_time": "2021-01-24T03:32:29.918779",
     "exception": false,
     "start_time": "2021-01-24T03:07:27.828983",
     "status": "completed"
    },
    "tags": []
   },
   "outputs": [
    {
     "name": "stdout",
     "output_type": "stream",
     "text": [
      "CPU times: user 19min 23s, sys: 48.7 s, total: 20min 11s\n",
      "Wall time: 25min 1s\n"
     ]
    }
   ],
   "source": [
    "%%time\n",
    "trfm = T.Compose([\n",
    "    T.ToPILImage(),\n",
    "    T.Resize(NEW_SIZE),\n",
    "    T.ToTensor(),\n",
    "    T.Normalize([0.625, 0.448, 0.688],\n",
    "                [0.131, 0.177, 0.101]),\n",
    "])\n",
    "\n",
    "\n",
    "p = pathlib.Path(DATA_PATH)\n",
    "\n",
    "subm = {}\n",
    "\n",
    "i=5\n",
    "model.load_state_dict(torch.load(\"./fold_{}.pth\".format(i)))  \n",
    "model.eval()\n",
    "\n",
    "for i, filename in enumerate(p.glob('test/*.tiff')):\n",
    "    dataset = rasterio.open(filename.as_posix(), transform = identity)\n",
    "    slices = make_grid(dataset.shape, window=WINDOW, min_overlap=MIN_OVERLAP)\n",
    "    preds = np.zeros(dataset.shape, dtype=np.uint8)\n",
    "    for (x1,x2,y1,y2) in slices:\n",
    "        image = dataset.read([1,2,3],\n",
    "                    window=Window.from_slices((x1,x2),(y1,y2)))\n",
    "        image = np.moveaxis(image, 0, -1)\n",
    "        image = trfm(image)\n",
    "        with torch.no_grad():\n",
    "            image = image.to(DEVICE)[None]\n",
    "\n",
    "            score = model(image)[0][0]\n",
    "\n",
    "            score2 = model(torch.flip(image, [0, 3]))\n",
    "            score2 = torch.flip(score2, [3, 0])[0][0]\n",
    "\n",
    "            score3 = model(torch.flip(image, [1, 2]))\n",
    "            score3 = torch.flip(score3, [2, 1])[0][0]\n",
    "                \n",
    "            score_mean = (score + score2 + score3) / 3.0\n",
    "\n",
    "            score_sigmoid = score_mean.sigmoid().cpu().numpy()\n",
    "            score_sigmoid = cv2.resize(score_sigmoid, (WINDOW, WINDOW))\n",
    "            \n",
    "            preds[x1:x2,y1:y2] = (score_sigmoid > best_thres).astype(np.uint8)\n",
    "            \n",
    "    subm[i] = {'id':filename.stem, 'predicted': rle_numba_encode(preds)}\n",
    "    del preds\n",
    "    gc.collect()"
   ]
  },
  {
   "cell_type": "code",
   "execution_count": 23,
   "metadata": {
    "execution": {
     "iopub.execute_input": "2021-01-24T03:32:30.059786Z",
     "iopub.status.busy": "2021-01-24T03:32:30.047581Z",
     "iopub.status.idle": "2021-01-24T03:32:31.073643Z",
     "shell.execute_reply": "2021-01-24T03:32:31.072679Z"
    },
    "papermill": {
     "duration": 1.101029,
     "end_time": "2021-01-24T03:32:31.073760",
     "exception": false,
     "start_time": "2021-01-24T03:32:29.972731",
     "status": "completed"
    },
    "tags": []
   },
   "outputs": [],
   "source": [
    "submission = pd.DataFrame.from_dict(subm, orient='index')\n",
    "submission.to_csv('submission.csv', index=False)"
   ]
  },
  {
   "cell_type": "code",
   "execution_count": 24,
   "metadata": {
    "execution": {
     "iopub.execute_input": "2021-01-24T03:32:31.196789Z",
     "iopub.status.busy": "2021-01-24T03:32:31.195861Z",
     "iopub.status.idle": "2021-01-24T03:32:31.199492Z",
     "shell.execute_reply": "2021-01-24T03:32:31.198954Z"
    },
    "papermill": {
     "duration": 0.064381,
     "end_time": "2021-01-24T03:32:31.199596",
     "exception": false,
     "start_time": "2021-01-24T03:32:31.135215",
     "status": "completed"
    },
    "tags": []
   },
   "outputs": [],
   "source": [
    "#SWA 一个epochs里的对多次训练得的权重进行平均\n",
    "# from torchcontrib.optim import SWA\n",
    "# base_opt=torch.optim.SGD(model.parameters(),lr=0.1)\n",
    "# opt=torchcontirb.optim.SWA(base_opt,swa_start,swa_freq=5)\n",
    "# for _ in range(100):\n",
    "#     opt.zero_grad()\n",
    "#     loss_fn(model(input),target).backward()\n",
    "#     opt.step()\n",
    "# opt.swap_swa_Sgd()"
   ]
  },
  {
   "cell_type": "code",
   "execution_count": 25,
   "metadata": {
    "execution": {
     "iopub.execute_input": "2021-01-24T03:32:31.346892Z",
     "iopub.status.busy": "2021-01-24T03:32:31.346173Z",
     "iopub.status.idle": "2021-01-24T03:32:31.349666Z",
     "shell.execute_reply": "2021-01-24T03:32:31.349174Z"
    },
    "papermill": {
     "duration": 0.095479,
     "end_time": "2021-01-24T03:32:31.349767",
     "exception": false,
     "start_time": "2021-01-24T03:32:31.254288",
     "status": "completed"
    },
    "tags": []
   },
   "outputs": [],
   "source": [
    "import warnings\n",
    "warnings.filterwarnings('ignore')\n",
    "\n",
    "import numpy as np\n",
    "import pandas as pd\n",
    "import pathlib, sys, os, random, time\n",
    "import numba, cv2, gc\n",
    "import glob\n",
    "import tifffile\n",
    "from sklearn.model_selection import KFold\n",
    "\n",
    "import matplotlib.pyplot as plt\n",
    "%matplotlib inline\n",
    "from PIL import Image\n",
    "from tqdm.notebook import tqdm\n",
    "import albumentations as A\n",
    "import rasterio\n",
    "from rasterio.windows import Window\n",
    "\n",
    "import torch\n",
    "import torch.nn as nn\n",
    "import torch.nn.functional as F\n",
    "import torch.utils.data as D\n",
    "\n",
    "import torchvision\n",
    "from torchvision import transforms as T\n",
    "\n",
    "def set_seeds(seed=2021):\n",
    "    random.seed(seed)\n",
    "    os.environ['PYTHONHASHSEED'] = str(seed)\n",
    "    np.random.seed(seed)\n",
    "    torch.manual_seed(seed)\n",
    "    torch.cuda.manual_seed(seed)\n",
    "    torch.cuda.manual_seed_all(seed)\n",
    "    torch.backends.cudnn.deterministic = True\n",
    "    torch.backends.cudnn.benchmark = True\n",
    "    \n",
    "set_seeds()"
   ]
  },
  {
   "cell_type": "markdown",
   "metadata": {
    "papermill": {
     "duration": 0.054356,
     "end_time": "2021-01-24T03:32:31.457945",
     "exception": false,
     "start_time": "2021-01-24T03:32:31.403589",
     "status": "completed"
    },
    "tags": []
   },
   "source": [
    "# 数据的EDA和数据增强的筛选"
   ]
  },
  {
   "cell_type": "code",
   "execution_count": 26,
   "metadata": {
    "execution": {
     "iopub.execute_input": "2021-01-24T03:32:31.595529Z",
     "iopub.status.busy": "2021-01-24T03:32:31.573833Z",
     "iopub.status.idle": "2021-01-24T03:32:31.606475Z",
     "shell.execute_reply": "2021-01-24T03:32:31.605983Z"
    },
    "papermill": {
     "duration": 0.095461,
     "end_time": "2021-01-24T03:32:31.606582",
     "exception": false,
     "start_time": "2021-01-24T03:32:31.511121",
     "status": "completed"
    },
    "tags": []
   },
   "outputs": [],
   "source": [
    "# https://www.kaggle.com/paulorzp/rle-functions-run-lenght-encode-decode\n",
    "def rle2mask(mask_rle, shape):\n",
    "    '''\n",
    "    mask_rle: run-length as string formated (start length)\n",
    "    shape: (width,height) of array to return \n",
    "    Returns numpy array, 1 - mask, 0 - background\n",
    "\n",
    "    '''\n",
    "    s = mask_rle.split()\n",
    "    starts, lengths = [\n",
    "        np.asarray(x, dtype=int) for x in (s[0:][::2], s[1:][::2])\n",
    "    ]\n",
    "    starts -= 1\n",
    "    ends = starts + lengths\n",
    "    img = np.zeros(shape[0] * shape[1], dtype=np.uint8)\n",
    "    for lo, hi in zip(starts, ends):\n",
    "        img[lo : hi] = 1\n",
    "    return img.reshape(shape).T\n",
    "\n",
    "\n",
    "def read_image(image_id, scale=None, verbose=1):\n",
    "    image = tifffile.imread(\n",
    "        os.path.join(BASE_PATH, f\"train/{image_id}.tiff\")\n",
    "    )\n",
    "    if len(image.shape) == 5:\n",
    "        image = image.squeeze().transpose(1, 2, 0)\n",
    "    \n",
    "    mask = rle2mask(\n",
    "        df_train[df_train[\"id\"] == image_id][\"encoding\"].values[0], \n",
    "        (image.shape[1], image.shape[0])\n",
    "    )\n",
    "    \n",
    "    if verbose:\n",
    "        print(f\"[{image_id}] Image shape: {image.shape}\")\n",
    "        print(f\"[{image_id}] Mask shape: {mask.shape}\")\n",
    "    \n",
    "    if scale:\n",
    "        new_size = (image.shape[1] // scale, image.shape[0] // scale)\n",
    "        image = cv2.resize(image, new_size)\n",
    "        mask = cv2.resize(mask, new_size)\n",
    "        \n",
    "        if verbose:\n",
    "            print(f\"[{image_id}] Resized Image shape: {image.shape}\")\n",
    "            print(f\"[{image_id}] Resized Mask shape: {mask.shape}\")\n",
    "        \n",
    "    return image, mask\n",
    "\n",
    "\n",
    "def read_test_image(image_id, scale=None, verbose=1):\n",
    "    image = tifffile.imread(\n",
    "        os.path.join(BASE_PATH, f\"test/{image_id}.tiff\")\n",
    "    )\n",
    "    if len(image.shape) == 5:\n",
    "        image = image.squeeze().transpose(1, 2, 0)\n",
    "    \n",
    "    if verbose:\n",
    "        print(f\"[{image_id}] Image shape: {image.shape}\")\n",
    "    \n",
    "    if scale:\n",
    "        new_size = (image.shape[1] // scale, image.shape[0] // scale)\n",
    "        image = cv2.resize(image, new_size)\n",
    "        \n",
    "        if verbose:\n",
    "            print(f\"[{image_id}] Resized Image shape: {image.shape}\")\n",
    "        \n",
    "    return image\n",
    "\n",
    "\n",
    "def plot_image_and_mask(image, mask, image_id):\n",
    "    plt.figure(figsize=(16, 10))\n",
    "    \n",
    "    plt.subplot(1, 3, 1)\n",
    "    plt.imshow(image)\n",
    "    plt.title(f\"Image {image_id}\", fontsize=18)\n",
    "    \n",
    "    plt.subplot(1, 3, 2)\n",
    "    plt.imshow(image)\n",
    "    plt.imshow(mask, cmap=\"hot\", alpha=0.5)\n",
    "    plt.title(f\"Image {image_id} + mask\", fontsize=18)    \n",
    "    \n",
    "    plt.subplot(1, 3, 3)\n",
    "    plt.imshow(mask, cmap=\"hot\")\n",
    "    plt.title(f\"Mask\", fontsize=18)    \n",
    "    \n",
    "    plt.show()\n",
    "    \n",
    "    \n",
    "def plot_grid_image_with_mask(image, mask):\n",
    "    plt.figure(figsize=(16, 16))\n",
    "    \n",
    "    w_len = image.shape[0]\n",
    "    h_len = image.shape[1]\n",
    "    \n",
    "    min_len = min(w_len, h_len)\n",
    "    w_start = (w_len - min_len) // 2\n",
    "    h_start = (h_len - min_len) // 2\n",
    "    \n",
    "    plt.imshow(image[w_start : w_start + min_len, h_start : h_start + min_len])\n",
    "    plt.imshow(\n",
    "        mask[w_start : w_start + min_len, h_start : h_start + min_len], cmap=\"hot\", alpha=0.5,\n",
    "    )\n",
    "    plt.axis(\"off\")\n",
    "            \n",
    "    plt.show()\n",
    "    \n",
    "\n",
    "def plot_slice_image_and_mask(image, mask, start_h, end_h, start_w, end_w):\n",
    "    plt.figure(figsize=(16, 5))\n",
    "    \n",
    "    sub_image = image[start_h:end_h, start_w:end_w, :]\n",
    "    sub_mask = mask[start_h:end_h, start_w:end_w]\n",
    "    \n",
    "    plt.subplot(1, 4, 1)\n",
    "    plt.imshow(sub_image)\n",
    "    plt.axis(\"off\")\n",
    "    \n",
    "    plt.subplot(1, 4, 2)\n",
    "    plt.imshow(sub_image)\n",
    "    plt.imshow(sub_mask, cmap=\"hot\", alpha=0.5)\n",
    "    plt.axis(\"off\")\n",
    "    \n",
    "    plt.subplot(1, 4, 3)\n",
    "    plt.imshow(sub_mask, cmap=\"hot\")\n",
    "    plt.axis(\"off\")\n",
    "    \n",
    "    import albumentations as A\n",
    "    aug =    A.HueSaturationValue(hue_shift_limit=25, sat_shift_limit=25, val_shift_limit=25, p=0.5)\n",
    "    image_aug = aug(image=sub_image)['image']\n",
    "    plt.subplot(1, 4, 4)\n",
    "    plt.imshow(image_aug)\n",
    "    plt.axis(\"off\")\n",
    "    \n",
    "    plt.show()"
   ]
  },
  {
   "cell_type": "code",
   "execution_count": 27,
   "metadata": {
    "execution": {
     "iopub.execute_input": "2021-01-24T03:32:31.719893Z",
     "iopub.status.busy": "2021-01-24T03:32:31.718993Z",
     "iopub.status.idle": "2021-01-24T03:32:31.721798Z",
     "shell.execute_reply": "2021-01-24T03:32:31.721272Z"
    },
    "papermill": {
     "duration": 0.061354,
     "end_time": "2021-01-24T03:32:31.721895",
     "exception": false,
     "start_time": "2021-01-24T03:32:31.660541",
     "status": "completed"
    },
    "tags": []
   },
   "outputs": [],
   "source": [
    "# BASE_PATH = \"../input/hubmap-kidney-segmentation/\"\n",
    "# TRAIN_PATH = os.path.join(BASE_PATH, \"train\")\n",
    "# df_train = pd.read_csv(\n",
    "#     os.path.join(BASE_PATH, \"train.csv\")\n",
    "# )\n",
    "# df_info = pd.read_csv(\n",
    "#     os.path.join(BASE_PATH, \"HuBMAP-20-dataset_information.csv\")\n",
    "# )\n",
    "# print(os.listdir(BASE_PATH))"
   ]
  },
  {
   "cell_type": "code",
   "execution_count": 28,
   "metadata": {
    "execution": {
     "iopub.execute_input": "2021-01-24T03:32:31.839534Z",
     "iopub.status.busy": "2021-01-24T03:32:31.838797Z",
     "iopub.status.idle": "2021-01-24T03:32:32.235252Z",
     "shell.execute_reply": "2021-01-24T03:32:32.234754Z"
    },
    "papermill": {
     "duration": 0.456146,
     "end_time": "2021-01-24T03:32:32.235363",
     "exception": false,
     "start_time": "2021-01-24T03:32:31.779217",
     "status": "completed"
    },
    "tags": []
   },
   "outputs": [
    {
     "ename": "NameError",
     "evalue": "name 'BASE_PATH' is not defined",
     "output_type": "error",
     "traceback": [
      "\u001b[0;31m---------------------------------------------------------------------------\u001b[0m",
      "\u001b[0;31mNameError\u001b[0m                                 Traceback (most recent call last)",
      "\u001b[0;32m<ipython-input-28-712c45e6a986>\u001b[0m in \u001b[0;36m<module>\u001b[0;34m\u001b[0m\n\u001b[1;32m      1\u001b[0m \u001b[0mimage_id\u001b[0m \u001b[0;34m=\u001b[0m \u001b[0;34m\"0486052bb\"\u001b[0m\u001b[0;34m\u001b[0m\u001b[0;34m\u001b[0m\u001b[0m\n\u001b[0;32m----> 2\u001b[0;31m \u001b[0mimage\u001b[0m\u001b[0;34m,\u001b[0m \u001b[0mmask\u001b[0m \u001b[0;34m=\u001b[0m \u001b[0mread_image\u001b[0m\u001b[0;34m(\u001b[0m\u001b[0mimage_id\u001b[0m\u001b[0;34m,\u001b[0m \u001b[0;36m2\u001b[0m\u001b[0;34m)\u001b[0m\u001b[0;34m\u001b[0m\u001b[0;34m\u001b[0m\u001b[0m\n\u001b[0m",
      "\u001b[0;32m<ipython-input-26-7e6a9c8f6346>\u001b[0m in \u001b[0;36mread_image\u001b[0;34m(image_id, scale, verbose)\u001b[0m\n\u001b[1;32m     21\u001b[0m \u001b[0;32mdef\u001b[0m \u001b[0mread_image\u001b[0m\u001b[0;34m(\u001b[0m\u001b[0mimage_id\u001b[0m\u001b[0;34m,\u001b[0m \u001b[0mscale\u001b[0m\u001b[0;34m=\u001b[0m\u001b[0;32mNone\u001b[0m\u001b[0;34m,\u001b[0m \u001b[0mverbose\u001b[0m\u001b[0;34m=\u001b[0m\u001b[0;36m1\u001b[0m\u001b[0;34m)\u001b[0m\u001b[0;34m:\u001b[0m\u001b[0;34m\u001b[0m\u001b[0;34m\u001b[0m\u001b[0m\n\u001b[1;32m     22\u001b[0m     image = tifffile.imread(\n\u001b[0;32m---> 23\u001b[0;31m         \u001b[0mos\u001b[0m\u001b[0;34m.\u001b[0m\u001b[0mpath\u001b[0m\u001b[0;34m.\u001b[0m\u001b[0mjoin\u001b[0m\u001b[0;34m(\u001b[0m\u001b[0mBASE_PATH\u001b[0m\u001b[0;34m,\u001b[0m \u001b[0;34mf\"train/{image_id}.tiff\"\u001b[0m\u001b[0;34m)\u001b[0m\u001b[0;34m\u001b[0m\u001b[0;34m\u001b[0m\u001b[0m\n\u001b[0m\u001b[1;32m     24\u001b[0m     )\n\u001b[1;32m     25\u001b[0m     \u001b[0;32mif\u001b[0m \u001b[0mlen\u001b[0m\u001b[0;34m(\u001b[0m\u001b[0mimage\u001b[0m\u001b[0;34m.\u001b[0m\u001b[0mshape\u001b[0m\u001b[0;34m)\u001b[0m \u001b[0;34m==\u001b[0m \u001b[0;36m5\u001b[0m\u001b[0;34m:\u001b[0m\u001b[0;34m\u001b[0m\u001b[0;34m\u001b[0m\u001b[0m\n",
      "\u001b[0;31mNameError\u001b[0m: name 'BASE_PATH' is not defined"
     ]
    }
   ],
   "source": [
    "image_id = \"0486052bb\"\n",
    "image, mask = read_image(image_id, 2)"
   ]
  },
  {
   "cell_type": "code",
   "execution_count": 29,
   "metadata": {
    "execution": {
     "iopub.execute_input": "2021-01-24T03:32:32.352853Z",
     "iopub.status.busy": "2021-01-24T03:32:32.352162Z",
     "iopub.status.idle": "2021-01-24T03:32:32.747209Z",
     "shell.execute_reply": "2021-01-24T03:32:32.746182Z"
    },
    "papermill": {
     "duration": 0.456449,
     "end_time": "2021-01-24T03:32:32.747358",
     "exception": false,
     "start_time": "2021-01-24T03:32:32.290909",
     "status": "completed"
    },
    "tags": []
   },
   "outputs": [
    {
     "ename": "TypeError",
     "evalue": "can't convert cuda:0 device type tensor to numpy. Use Tensor.cpu() to copy the tensor to host memory first.",
     "output_type": "error",
     "traceback": [
      "\u001b[0;31m---------------------------------------------------------------------------\u001b[0m",
      "\u001b[0;31mTypeError\u001b[0m                                 Traceback (most recent call last)",
      "\u001b[0;32m<ipython-input-29-53a21e919f37>\u001b[0m in \u001b[0;36m<module>\u001b[0;34m\u001b[0m\n\u001b[0;32m----> 1\u001b[0;31m \u001b[0mplot_image_and_mask\u001b[0m\u001b[0;34m(\u001b[0m\u001b[0mimage\u001b[0m\u001b[0;34m,\u001b[0m \u001b[0mmask\u001b[0m\u001b[0;34m,\u001b[0m \u001b[0mimage_id\u001b[0m\u001b[0;34m)\u001b[0m\u001b[0;34m\u001b[0m\u001b[0;34m\u001b[0m\u001b[0m\n\u001b[0m",
      "\u001b[0;32m<ipython-input-26-7e6a9c8f6346>\u001b[0m in \u001b[0;36mplot_image_and_mask\u001b[0;34m(image, mask, image_id)\u001b[0m\n\u001b[1;32m     71\u001b[0m \u001b[0;34m\u001b[0m\u001b[0m\n\u001b[1;32m     72\u001b[0m     \u001b[0mplt\u001b[0m\u001b[0;34m.\u001b[0m\u001b[0msubplot\u001b[0m\u001b[0;34m(\u001b[0m\u001b[0;36m1\u001b[0m\u001b[0;34m,\u001b[0m \u001b[0;36m3\u001b[0m\u001b[0;34m,\u001b[0m \u001b[0;36m1\u001b[0m\u001b[0;34m)\u001b[0m\u001b[0;34m\u001b[0m\u001b[0;34m\u001b[0m\u001b[0m\n\u001b[0;32m---> 73\u001b[0;31m     \u001b[0mplt\u001b[0m\u001b[0;34m.\u001b[0m\u001b[0mimshow\u001b[0m\u001b[0;34m(\u001b[0m\u001b[0mimage\u001b[0m\u001b[0;34m)\u001b[0m\u001b[0;34m\u001b[0m\u001b[0;34m\u001b[0m\u001b[0m\n\u001b[0m\u001b[1;32m     74\u001b[0m     \u001b[0mplt\u001b[0m\u001b[0;34m.\u001b[0m\u001b[0mtitle\u001b[0m\u001b[0;34m(\u001b[0m\u001b[0;34mf\"Image {image_id}\"\u001b[0m\u001b[0;34m,\u001b[0m \u001b[0mfontsize\u001b[0m\u001b[0;34m=\u001b[0m\u001b[0;36m18\u001b[0m\u001b[0;34m)\u001b[0m\u001b[0;34m\u001b[0m\u001b[0;34m\u001b[0m\u001b[0m\n\u001b[1;32m     75\u001b[0m \u001b[0;34m\u001b[0m\u001b[0m\n",
      "\u001b[0;32m/opt/conda/lib/python3.7/site-packages/matplotlib/pyplot.py\u001b[0m in \u001b[0;36mimshow\u001b[0;34m(X, cmap, norm, aspect, interpolation, alpha, vmin, vmax, origin, extent, shape, filternorm, filterrad, imlim, resample, url, data, **kwargs)\u001b[0m\n\u001b[1;32m   2649\u001b[0m         \u001b[0mfilternorm\u001b[0m\u001b[0;34m=\u001b[0m\u001b[0mfilternorm\u001b[0m\u001b[0;34m,\u001b[0m \u001b[0mfilterrad\u001b[0m\u001b[0;34m=\u001b[0m\u001b[0mfilterrad\u001b[0m\u001b[0;34m,\u001b[0m \u001b[0mimlim\u001b[0m\u001b[0;34m=\u001b[0m\u001b[0mimlim\u001b[0m\u001b[0;34m,\u001b[0m\u001b[0;34m\u001b[0m\u001b[0;34m\u001b[0m\u001b[0m\n\u001b[1;32m   2650\u001b[0m         resample=resample, url=url, **({\"data\": data} if data is not\n\u001b[0;32m-> 2651\u001b[0;31m         None else {}), **kwargs)\n\u001b[0m\u001b[1;32m   2652\u001b[0m     \u001b[0msci\u001b[0m\u001b[0;34m(\u001b[0m\u001b[0m__ret\u001b[0m\u001b[0;34m)\u001b[0m\u001b[0;34m\u001b[0m\u001b[0;34m\u001b[0m\u001b[0m\n\u001b[1;32m   2653\u001b[0m     \u001b[0;32mreturn\u001b[0m \u001b[0m__ret\u001b[0m\u001b[0;34m\u001b[0m\u001b[0;34m\u001b[0m\u001b[0m\n",
      "\u001b[0;32m/opt/conda/lib/python3.7/site-packages/matplotlib/__init__.py\u001b[0m in \u001b[0;36minner\u001b[0;34m(ax, data, *args, **kwargs)\u001b[0m\n\u001b[1;32m   1563\u001b[0m     \u001b[0;32mdef\u001b[0m \u001b[0minner\u001b[0m\u001b[0;34m(\u001b[0m\u001b[0max\u001b[0m\u001b[0;34m,\u001b[0m \u001b[0;34m*\u001b[0m\u001b[0margs\u001b[0m\u001b[0;34m,\u001b[0m \u001b[0mdata\u001b[0m\u001b[0;34m=\u001b[0m\u001b[0;32mNone\u001b[0m\u001b[0;34m,\u001b[0m \u001b[0;34m**\u001b[0m\u001b[0mkwargs\u001b[0m\u001b[0;34m)\u001b[0m\u001b[0;34m:\u001b[0m\u001b[0;34m\u001b[0m\u001b[0;34m\u001b[0m\u001b[0m\n\u001b[1;32m   1564\u001b[0m         \u001b[0;32mif\u001b[0m \u001b[0mdata\u001b[0m \u001b[0;32mis\u001b[0m \u001b[0;32mNone\u001b[0m\u001b[0;34m:\u001b[0m\u001b[0;34m\u001b[0m\u001b[0;34m\u001b[0m\u001b[0m\n\u001b[0;32m-> 1565\u001b[0;31m             \u001b[0;32mreturn\u001b[0m \u001b[0mfunc\u001b[0m\u001b[0;34m(\u001b[0m\u001b[0max\u001b[0m\u001b[0;34m,\u001b[0m \u001b[0;34m*\u001b[0m\u001b[0mmap\u001b[0m\u001b[0;34m(\u001b[0m\u001b[0msanitize_sequence\u001b[0m\u001b[0;34m,\u001b[0m \u001b[0margs\u001b[0m\u001b[0;34m)\u001b[0m\u001b[0;34m,\u001b[0m \u001b[0;34m**\u001b[0m\u001b[0mkwargs\u001b[0m\u001b[0;34m)\u001b[0m\u001b[0;34m\u001b[0m\u001b[0;34m\u001b[0m\u001b[0m\n\u001b[0m\u001b[1;32m   1566\u001b[0m \u001b[0;34m\u001b[0m\u001b[0m\n\u001b[1;32m   1567\u001b[0m         \u001b[0mbound\u001b[0m \u001b[0;34m=\u001b[0m \u001b[0mnew_sig\u001b[0m\u001b[0;34m.\u001b[0m\u001b[0mbind\u001b[0m\u001b[0;34m(\u001b[0m\u001b[0max\u001b[0m\u001b[0;34m,\u001b[0m \u001b[0;34m*\u001b[0m\u001b[0margs\u001b[0m\u001b[0;34m,\u001b[0m \u001b[0;34m**\u001b[0m\u001b[0mkwargs\u001b[0m\u001b[0;34m)\u001b[0m\u001b[0;34m\u001b[0m\u001b[0;34m\u001b[0m\u001b[0m\n",
      "\u001b[0;32m/opt/conda/lib/python3.7/site-packages/matplotlib/cbook/deprecation.py\u001b[0m in \u001b[0;36mwrapper\u001b[0;34m(*args, **kwargs)\u001b[0m\n\u001b[1;32m    356\u001b[0m                 \u001b[0;34mf\"%(removal)s.  If any parameter follows {name!r}, they \"\u001b[0m\u001b[0;34m\u001b[0m\u001b[0;34m\u001b[0m\u001b[0m\n\u001b[1;32m    357\u001b[0m                 f\"should be pass as keyword, not positionally.\")\n\u001b[0;32m--> 358\u001b[0;31m         \u001b[0;32mreturn\u001b[0m \u001b[0mfunc\u001b[0m\u001b[0;34m(\u001b[0m\u001b[0;34m*\u001b[0m\u001b[0margs\u001b[0m\u001b[0;34m,\u001b[0m \u001b[0;34m**\u001b[0m\u001b[0mkwargs\u001b[0m\u001b[0;34m)\u001b[0m\u001b[0;34m\u001b[0m\u001b[0;34m\u001b[0m\u001b[0m\n\u001b[0m\u001b[1;32m    359\u001b[0m \u001b[0;34m\u001b[0m\u001b[0m\n\u001b[1;32m    360\u001b[0m     \u001b[0;32mreturn\u001b[0m \u001b[0mwrapper\u001b[0m\u001b[0;34m\u001b[0m\u001b[0;34m\u001b[0m\u001b[0m\n",
      "\u001b[0;32m/opt/conda/lib/python3.7/site-packages/matplotlib/cbook/deprecation.py\u001b[0m in \u001b[0;36mwrapper\u001b[0;34m(*args, **kwargs)\u001b[0m\n\u001b[1;32m    356\u001b[0m                 \u001b[0;34mf\"%(removal)s.  If any parameter follows {name!r}, they \"\u001b[0m\u001b[0;34m\u001b[0m\u001b[0;34m\u001b[0m\u001b[0m\n\u001b[1;32m    357\u001b[0m                 f\"should be pass as keyword, not positionally.\")\n\u001b[0;32m--> 358\u001b[0;31m         \u001b[0;32mreturn\u001b[0m \u001b[0mfunc\u001b[0m\u001b[0;34m(\u001b[0m\u001b[0;34m*\u001b[0m\u001b[0margs\u001b[0m\u001b[0;34m,\u001b[0m \u001b[0;34m**\u001b[0m\u001b[0mkwargs\u001b[0m\u001b[0;34m)\u001b[0m\u001b[0;34m\u001b[0m\u001b[0;34m\u001b[0m\u001b[0m\n\u001b[0m\u001b[1;32m    359\u001b[0m \u001b[0;34m\u001b[0m\u001b[0m\n\u001b[1;32m    360\u001b[0m     \u001b[0;32mreturn\u001b[0m \u001b[0mwrapper\u001b[0m\u001b[0;34m\u001b[0m\u001b[0;34m\u001b[0m\u001b[0m\n",
      "\u001b[0;32m/opt/conda/lib/python3.7/site-packages/matplotlib/axes/_axes.py\u001b[0m in \u001b[0;36mimshow\u001b[0;34m(self, X, cmap, norm, aspect, interpolation, alpha, vmin, vmax, origin, extent, shape, filternorm, filterrad, imlim, resample, url, **kwargs)\u001b[0m\n\u001b[1;32m   5613\u001b[0m                               resample=resample, **kwargs)\n\u001b[1;32m   5614\u001b[0m \u001b[0;34m\u001b[0m\u001b[0m\n\u001b[0;32m-> 5615\u001b[0;31m         \u001b[0mim\u001b[0m\u001b[0;34m.\u001b[0m\u001b[0mset_data\u001b[0m\u001b[0;34m(\u001b[0m\u001b[0mX\u001b[0m\u001b[0;34m)\u001b[0m\u001b[0;34m\u001b[0m\u001b[0;34m\u001b[0m\u001b[0m\n\u001b[0m\u001b[1;32m   5616\u001b[0m         \u001b[0mim\u001b[0m\u001b[0;34m.\u001b[0m\u001b[0mset_alpha\u001b[0m\u001b[0;34m(\u001b[0m\u001b[0malpha\u001b[0m\u001b[0;34m)\u001b[0m\u001b[0;34m\u001b[0m\u001b[0;34m\u001b[0m\u001b[0m\n\u001b[1;32m   5617\u001b[0m         \u001b[0;32mif\u001b[0m \u001b[0mim\u001b[0m\u001b[0;34m.\u001b[0m\u001b[0mget_clip_path\u001b[0m\u001b[0;34m(\u001b[0m\u001b[0;34m)\u001b[0m \u001b[0;32mis\u001b[0m \u001b[0;32mNone\u001b[0m\u001b[0;34m:\u001b[0m\u001b[0;34m\u001b[0m\u001b[0;34m\u001b[0m\u001b[0m\n",
      "\u001b[0;32m/opt/conda/lib/python3.7/site-packages/matplotlib/image.py\u001b[0m in \u001b[0;36mset_data\u001b[0;34m(self, A)\u001b[0m\n\u001b[1;32m    687\u001b[0m             \u001b[0;32mif\u001b[0m \u001b[0misinstance\u001b[0m\u001b[0;34m(\u001b[0m\u001b[0mA\u001b[0m\u001b[0;34m,\u001b[0m \u001b[0mImage\u001b[0m\u001b[0;34m.\u001b[0m\u001b[0mImage\u001b[0m\u001b[0;34m)\u001b[0m\u001b[0;34m:\u001b[0m\u001b[0;34m\u001b[0m\u001b[0;34m\u001b[0m\u001b[0m\n\u001b[1;32m    688\u001b[0m                 \u001b[0mA\u001b[0m \u001b[0;34m=\u001b[0m \u001b[0mpil_to_array\u001b[0m\u001b[0;34m(\u001b[0m\u001b[0mA\u001b[0m\u001b[0;34m)\u001b[0m  \u001b[0;31m# Needed e.g. to apply png palette.\u001b[0m\u001b[0;34m\u001b[0m\u001b[0;34m\u001b[0m\u001b[0m\n\u001b[0;32m--> 689\u001b[0;31m         \u001b[0mself\u001b[0m\u001b[0;34m.\u001b[0m\u001b[0m_A\u001b[0m \u001b[0;34m=\u001b[0m \u001b[0mcbook\u001b[0m\u001b[0;34m.\u001b[0m\u001b[0msafe_masked_invalid\u001b[0m\u001b[0;34m(\u001b[0m\u001b[0mA\u001b[0m\u001b[0;34m,\u001b[0m \u001b[0mcopy\u001b[0m\u001b[0;34m=\u001b[0m\u001b[0;32mTrue\u001b[0m\u001b[0;34m)\u001b[0m\u001b[0;34m\u001b[0m\u001b[0;34m\u001b[0m\u001b[0m\n\u001b[0m\u001b[1;32m    690\u001b[0m \u001b[0;34m\u001b[0m\u001b[0m\n\u001b[1;32m    691\u001b[0m         if (self._A.dtype != np.uint8 and\n",
      "\u001b[0;32m/opt/conda/lib/python3.7/site-packages/matplotlib/cbook/__init__.py\u001b[0m in \u001b[0;36msafe_masked_invalid\u001b[0;34m(x, copy)\u001b[0m\n\u001b[1;32m    704\u001b[0m \u001b[0;34m\u001b[0m\u001b[0m\n\u001b[1;32m    705\u001b[0m \u001b[0;32mdef\u001b[0m \u001b[0msafe_masked_invalid\u001b[0m\u001b[0;34m(\u001b[0m\u001b[0mx\u001b[0m\u001b[0;34m,\u001b[0m \u001b[0mcopy\u001b[0m\u001b[0;34m=\u001b[0m\u001b[0;32mFalse\u001b[0m\u001b[0;34m)\u001b[0m\u001b[0;34m:\u001b[0m\u001b[0;34m\u001b[0m\u001b[0;34m\u001b[0m\u001b[0m\n\u001b[0;32m--> 706\u001b[0;31m     \u001b[0mx\u001b[0m \u001b[0;34m=\u001b[0m \u001b[0mnp\u001b[0m\u001b[0;34m.\u001b[0m\u001b[0marray\u001b[0m\u001b[0;34m(\u001b[0m\u001b[0mx\u001b[0m\u001b[0;34m,\u001b[0m \u001b[0msubok\u001b[0m\u001b[0;34m=\u001b[0m\u001b[0;32mTrue\u001b[0m\u001b[0;34m,\u001b[0m \u001b[0mcopy\u001b[0m\u001b[0;34m=\u001b[0m\u001b[0mcopy\u001b[0m\u001b[0;34m)\u001b[0m\u001b[0;34m\u001b[0m\u001b[0;34m\u001b[0m\u001b[0m\n\u001b[0m\u001b[1;32m    707\u001b[0m     \u001b[0;32mif\u001b[0m \u001b[0;32mnot\u001b[0m \u001b[0mx\u001b[0m\u001b[0;34m.\u001b[0m\u001b[0mdtype\u001b[0m\u001b[0;34m.\u001b[0m\u001b[0misnative\u001b[0m\u001b[0;34m:\u001b[0m\u001b[0;34m\u001b[0m\u001b[0;34m\u001b[0m\u001b[0m\n\u001b[1;32m    708\u001b[0m         \u001b[0;31m# Note that the argument to `byteswap` is 'inplace',\u001b[0m\u001b[0;34m\u001b[0m\u001b[0;34m\u001b[0m\u001b[0;34m\u001b[0m\u001b[0m\n",
      "\u001b[0;32m/opt/conda/lib/python3.7/site-packages/torch/tensor.py\u001b[0m in \u001b[0;36m__array__\u001b[0;34m(self, dtype)\u001b[0m\n\u001b[1;32m    628\u001b[0m             \u001b[0;32mreturn\u001b[0m \u001b[0mhandle_torch_function\u001b[0m\u001b[0;34m(\u001b[0m\u001b[0mTensor\u001b[0m\u001b[0;34m.\u001b[0m\u001b[0m__array__\u001b[0m\u001b[0;34m,\u001b[0m \u001b[0mrelevant_args\u001b[0m\u001b[0;34m,\u001b[0m \u001b[0mself\u001b[0m\u001b[0;34m,\u001b[0m \u001b[0mdtype\u001b[0m\u001b[0;34m=\u001b[0m\u001b[0mdtype\u001b[0m\u001b[0;34m)\u001b[0m\u001b[0;34m\u001b[0m\u001b[0;34m\u001b[0m\u001b[0m\n\u001b[1;32m    629\u001b[0m         \u001b[0;32mif\u001b[0m \u001b[0mdtype\u001b[0m \u001b[0;32mis\u001b[0m \u001b[0;32mNone\u001b[0m\u001b[0;34m:\u001b[0m\u001b[0;34m\u001b[0m\u001b[0;34m\u001b[0m\u001b[0m\n\u001b[0;32m--> 630\u001b[0;31m             \u001b[0;32mreturn\u001b[0m \u001b[0mself\u001b[0m\u001b[0;34m.\u001b[0m\u001b[0mnumpy\u001b[0m\u001b[0;34m(\u001b[0m\u001b[0;34m)\u001b[0m\u001b[0;34m\u001b[0m\u001b[0;34m\u001b[0m\u001b[0m\n\u001b[0m\u001b[1;32m    631\u001b[0m         \u001b[0;32melse\u001b[0m\u001b[0;34m:\u001b[0m\u001b[0;34m\u001b[0m\u001b[0;34m\u001b[0m\u001b[0m\n\u001b[1;32m    632\u001b[0m             \u001b[0;32mreturn\u001b[0m \u001b[0mself\u001b[0m\u001b[0;34m.\u001b[0m\u001b[0mnumpy\u001b[0m\u001b[0;34m(\u001b[0m\u001b[0;34m)\u001b[0m\u001b[0;34m.\u001b[0m\u001b[0mastype\u001b[0m\u001b[0;34m(\u001b[0m\u001b[0mdtype\u001b[0m\u001b[0;34m,\u001b[0m \u001b[0mcopy\u001b[0m\u001b[0;34m=\u001b[0m\u001b[0;32mFalse\u001b[0m\u001b[0;34m)\u001b[0m\u001b[0;34m\u001b[0m\u001b[0;34m\u001b[0m\u001b[0m\n",
      "\u001b[0;31mTypeError\u001b[0m: can't convert cuda:0 device type tensor to numpy. Use Tensor.cpu() to copy the tensor to host memory first."
     ]
    },
    {
     "data": {
      "image/png": "[encoded data removed]",
      "text/plain": [
       "<Figure size 1152x720 with 1 Axes>"
      ]
     },
     "metadata": {
      "needs_background": "light"
     },
     "output_type": "display_data"
    }
   ],
   "source": [
    "plot_image_and_mask(image, mask, image_id)"
   ]
  },
  {
   "cell_type": "code",
   "execution_count": 30,
   "metadata": {
    "execution": {
     "iopub.execute_input": "2021-01-24T03:32:32.884526Z",
     "iopub.status.busy": "2021-01-24T03:32:32.883636Z",
     "iopub.status.idle": "2021-01-24T03:32:32.890169Z",
     "shell.execute_reply": "2021-01-24T03:32:32.889612Z"
    },
    "papermill": {
     "duration": 0.083084,
     "end_time": "2021-01-24T03:32:32.890273",
     "exception": false,
     "start_time": "2021-01-24T03:32:32.807189",
     "status": "completed"
    },
    "tags": []
   },
   "outputs": [
    {
     "ename": "NameError",
     "evalue": "name 'aug' is not defined",
     "output_type": "error",
     "traceback": [
      "\u001b[0;31m---------------------------------------------------------------------------\u001b[0m",
      "\u001b[0;31mNameError\u001b[0m                                 Traceback (most recent call last)",
      "\u001b[0;32m<ipython-input-30-ed566739d0e0>\u001b[0m in \u001b[0;36m<module>\u001b[0;34m\u001b[0m\n\u001b[1;32m      1\u001b[0m \u001b[0;31m# plot_slice_image_and_mask(image, mask, 5000, 7500, 2500, 5000)\u001b[0m\u001b[0;34m\u001b[0m\u001b[0;34m\u001b[0m\u001b[0;34m\u001b[0m\u001b[0m\n\u001b[1;32m      2\u001b[0m \u001b[0;31m# plot_slice_image_and_mask(image, mask, 5250, 5720, 3500, 4000)\u001b[0m\u001b[0;34m\u001b[0m\u001b[0;34m\u001b[0m\u001b[0;34m\u001b[0m\u001b[0m\n\u001b[0;32m----> 3\u001b[0;31m \u001b[0mplot_slice_image_and_mask\u001b[0m\u001b[0;34m(\u001b[0m\u001b[0mimage\u001b[0m\u001b[0;34m,\u001b[0m \u001b[0mmask\u001b[0m\u001b[0;34m,\u001b[0m \u001b[0;36m5375\u001b[0m\u001b[0;34m,\u001b[0m \u001b[0;36m5575\u001b[0m\u001b[0;34m,\u001b[0m \u001b[0;36m3650\u001b[0m\u001b[0;34m,\u001b[0m \u001b[0;36m3850\u001b[0m\u001b[0;34m,\u001b[0m\u001b[0maug\u001b[0m\u001b[0;34m)\u001b[0m\u001b[0;34m\u001b[0m\u001b[0;34m\u001b[0m\u001b[0m\n\u001b[0m",
      "\u001b[0;31mNameError\u001b[0m: name 'aug' is not defined"
     ]
    }
   ],
   "source": [
    "# plot_slice_image_and_mask(image, mask, 5000, 7500, 2500, 5000)\n",
    "# plot_slice_image_and_mask(image, mask, 5250, 5720, 3500, 4000)\n",
    "plot_slice_image_and_mask(image, mask, 5375, 5575, 3650, 3850,aug)"
   ]
  },
  {
   "cell_type": "code",
   "execution_count": 31,
   "metadata": {
    "execution": {
     "iopub.execute_input": "2021-01-24T03:32:33.017985Z",
     "iopub.status.busy": "2021-01-24T03:32:33.016970Z",
     "iopub.status.idle": "2021-01-24T03:32:33.241243Z",
     "shell.execute_reply": "2021-01-24T03:32:33.242068Z"
    },
    "papermill": {
     "duration": 0.293152,
     "end_time": "2021-01-24T03:32:33.242239",
     "exception": false,
     "start_time": "2021-01-24T03:32:32.949087",
     "status": "completed"
    },
    "tags": []
   },
   "outputs": [
    {
     "ename": "TypeError",
     "evalue": "can't convert cuda:0 device type tensor to numpy. Use Tensor.cpu() to copy the tensor to host memory first.",
     "output_type": "error",
     "traceback": [
      "\u001b[0;31m---------------------------------------------------------------------------\u001b[0m",
      "\u001b[0;31mTypeError\u001b[0m                                 Traceback (most recent call last)",
      "\u001b[0;32m<ipython-input-31-80974b0febc1>\u001b[0m in \u001b[0;36m<module>\u001b[0;34m\u001b[0m\n\u001b[0;32m----> 1\u001b[0;31m \u001b[0mplot_grid_image_with_mask\u001b[0m\u001b[0;34m(\u001b[0m\u001b[0mimage\u001b[0m\u001b[0;34m,\u001b[0m \u001b[0mmask\u001b[0m\u001b[0;34m)\u001b[0m\u001b[0;34m\u001b[0m\u001b[0;34m\u001b[0m\u001b[0m\n\u001b[0m",
      "\u001b[0;32m<ipython-input-26-7e6a9c8f6346>\u001b[0m in \u001b[0;36mplot_grid_image_with_mask\u001b[0;34m(image, mask)\u001b[0m\n\u001b[1;32m     96\u001b[0m     \u001b[0mh_start\u001b[0m \u001b[0;34m=\u001b[0m \u001b[0;34m(\u001b[0m\u001b[0mh_len\u001b[0m \u001b[0;34m-\u001b[0m \u001b[0mmin_len\u001b[0m\u001b[0;34m)\u001b[0m \u001b[0;34m//\u001b[0m \u001b[0;36m2\u001b[0m\u001b[0;34m\u001b[0m\u001b[0;34m\u001b[0m\u001b[0m\n\u001b[1;32m     97\u001b[0m \u001b[0;34m\u001b[0m\u001b[0m\n\u001b[0;32m---> 98\u001b[0;31m     \u001b[0mplt\u001b[0m\u001b[0;34m.\u001b[0m\u001b[0mimshow\u001b[0m\u001b[0;34m(\u001b[0m\u001b[0mimage\u001b[0m\u001b[0;34m[\u001b[0m\u001b[0mw_start\u001b[0m \u001b[0;34m:\u001b[0m \u001b[0mw_start\u001b[0m \u001b[0;34m+\u001b[0m \u001b[0mmin_len\u001b[0m\u001b[0;34m,\u001b[0m \u001b[0mh_start\u001b[0m \u001b[0;34m:\u001b[0m \u001b[0mh_start\u001b[0m \u001b[0;34m+\u001b[0m \u001b[0mmin_len\u001b[0m\u001b[0;34m]\u001b[0m\u001b[0;34m)\u001b[0m\u001b[0;34m\u001b[0m\u001b[0;34m\u001b[0m\u001b[0m\n\u001b[0m\u001b[1;32m     99\u001b[0m     plt.imshow(\n\u001b[1;32m    100\u001b[0m         \u001b[0mmask\u001b[0m\u001b[0;34m[\u001b[0m\u001b[0mw_start\u001b[0m \u001b[0;34m:\u001b[0m \u001b[0mw_start\u001b[0m \u001b[0;34m+\u001b[0m \u001b[0mmin_len\u001b[0m\u001b[0;34m,\u001b[0m \u001b[0mh_start\u001b[0m \u001b[0;34m:\u001b[0m \u001b[0mh_start\u001b[0m \u001b[0;34m+\u001b[0m \u001b[0mmin_len\u001b[0m\u001b[0;34m]\u001b[0m\u001b[0;34m,\u001b[0m \u001b[0mcmap\u001b[0m\u001b[0;34m=\u001b[0m\u001b[0;34m\"hot\"\u001b[0m\u001b[0;34m,\u001b[0m \u001b[0malpha\u001b[0m\u001b[0;34m=\u001b[0m\u001b[0;36m0.5\u001b[0m\u001b[0;34m,\u001b[0m\u001b[0;34m\u001b[0m\u001b[0;34m\u001b[0m\u001b[0m\n",
      "\u001b[0;32m/opt/conda/lib/python3.7/site-packages/matplotlib/pyplot.py\u001b[0m in \u001b[0;36mimshow\u001b[0;34m(X, cmap, norm, aspect, interpolation, alpha, vmin, vmax, origin, extent, shape, filternorm, filterrad, imlim, resample, url, data, **kwargs)\u001b[0m\n\u001b[1;32m   2649\u001b[0m         \u001b[0mfilternorm\u001b[0m\u001b[0;34m=\u001b[0m\u001b[0mfilternorm\u001b[0m\u001b[0;34m,\u001b[0m \u001b[0mfilterrad\u001b[0m\u001b[0;34m=\u001b[0m\u001b[0mfilterrad\u001b[0m\u001b[0;34m,\u001b[0m \u001b[0mimlim\u001b[0m\u001b[0;34m=\u001b[0m\u001b[0mimlim\u001b[0m\u001b[0;34m,\u001b[0m\u001b[0;34m\u001b[0m\u001b[0;34m\u001b[0m\u001b[0m\n\u001b[1;32m   2650\u001b[0m         resample=resample, url=url, **({\"data\": data} if data is not\n\u001b[0;32m-> 2651\u001b[0;31m         None else {}), **kwargs)\n\u001b[0m\u001b[1;32m   2652\u001b[0m     \u001b[0msci\u001b[0m\u001b[0;34m(\u001b[0m\u001b[0m__ret\u001b[0m\u001b[0;34m)\u001b[0m\u001b[0;34m\u001b[0m\u001b[0;34m\u001b[0m\u001b[0m\n\u001b[1;32m   2653\u001b[0m     \u001b[0;32mreturn\u001b[0m \u001b[0m__ret\u001b[0m\u001b[0;34m\u001b[0m\u001b[0;34m\u001b[0m\u001b[0m\n",
      "\u001b[0;32m/opt/conda/lib/python3.7/site-packages/matplotlib/__init__.py\u001b[0m in \u001b[0;36minner\u001b[0;34m(ax, data, *args, **kwargs)\u001b[0m\n\u001b[1;32m   1563\u001b[0m     \u001b[0;32mdef\u001b[0m \u001b[0minner\u001b[0m\u001b[0;34m(\u001b[0m\u001b[0max\u001b[0m\u001b[0;34m,\u001b[0m \u001b[0;34m*\u001b[0m\u001b[0margs\u001b[0m\u001b[0;34m,\u001b[0m \u001b[0mdata\u001b[0m\u001b[0;34m=\u001b[0m\u001b[0;32mNone\u001b[0m\u001b[0;34m,\u001b[0m \u001b[0;34m**\u001b[0m\u001b[0mkwargs\u001b[0m\u001b[0;34m)\u001b[0m\u001b[0;34m:\u001b[0m\u001b[0;34m\u001b[0m\u001b[0;34m\u001b[0m\u001b[0m\n\u001b[1;32m   1564\u001b[0m         \u001b[0;32mif\u001b[0m \u001b[0mdata\u001b[0m \u001b[0;32mis\u001b[0m \u001b[0;32mNone\u001b[0m\u001b[0;34m:\u001b[0m\u001b[0;34m\u001b[0m\u001b[0;34m\u001b[0m\u001b[0m\n\u001b[0;32m-> 1565\u001b[0;31m             \u001b[0;32mreturn\u001b[0m \u001b[0mfunc\u001b[0m\u001b[0;34m(\u001b[0m\u001b[0max\u001b[0m\u001b[0;34m,\u001b[0m \u001b[0;34m*\u001b[0m\u001b[0mmap\u001b[0m\u001b[0;34m(\u001b[0m\u001b[0msanitize_sequence\u001b[0m\u001b[0;34m,\u001b[0m \u001b[0margs\u001b[0m\u001b[0;34m)\u001b[0m\u001b[0;34m,\u001b[0m \u001b[0;34m**\u001b[0m\u001b[0mkwargs\u001b[0m\u001b[0;34m)\u001b[0m\u001b[0;34m\u001b[0m\u001b[0;34m\u001b[0m\u001b[0m\n\u001b[0m\u001b[1;32m   1566\u001b[0m \u001b[0;34m\u001b[0m\u001b[0m\n\u001b[1;32m   1567\u001b[0m         \u001b[0mbound\u001b[0m \u001b[0;34m=\u001b[0m \u001b[0mnew_sig\u001b[0m\u001b[0;34m.\u001b[0m\u001b[0mbind\u001b[0m\u001b[0;34m(\u001b[0m\u001b[0max\u001b[0m\u001b[0;34m,\u001b[0m \u001b[0;34m*\u001b[0m\u001b[0margs\u001b[0m\u001b[0;34m,\u001b[0m \u001b[0;34m**\u001b[0m\u001b[0mkwargs\u001b[0m\u001b[0;34m)\u001b[0m\u001b[0;34m\u001b[0m\u001b[0;34m\u001b[0m\u001b[0m\n",
      "\u001b[0;32m/opt/conda/lib/python3.7/site-packages/matplotlib/cbook/deprecation.py\u001b[0m in \u001b[0;36mwrapper\u001b[0;34m(*args, **kwargs)\u001b[0m\n\u001b[1;32m    356\u001b[0m                 \u001b[0;34mf\"%(removal)s.  If any parameter follows {name!r}, they \"\u001b[0m\u001b[0;34m\u001b[0m\u001b[0;34m\u001b[0m\u001b[0m\n\u001b[1;32m    357\u001b[0m                 f\"should be pass as keyword, not positionally.\")\n\u001b[0;32m--> 358\u001b[0;31m         \u001b[0;32mreturn\u001b[0m \u001b[0mfunc\u001b[0m\u001b[0;34m(\u001b[0m\u001b[0;34m*\u001b[0m\u001b[0margs\u001b[0m\u001b[0;34m,\u001b[0m \u001b[0;34m**\u001b[0m\u001b[0mkwargs\u001b[0m\u001b[0;34m)\u001b[0m\u001b[0;34m\u001b[0m\u001b[0;34m\u001b[0m\u001b[0m\n\u001b[0m\u001b[1;32m    359\u001b[0m \u001b[0;34m\u001b[0m\u001b[0m\n\u001b[1;32m    360\u001b[0m     \u001b[0;32mreturn\u001b[0m \u001b[0mwrapper\u001b[0m\u001b[0;34m\u001b[0m\u001b[0;34m\u001b[0m\u001b[0m\n",
      "\u001b[0;32m/opt/conda/lib/python3.7/site-packages/matplotlib/cbook/deprecation.py\u001b[0m in \u001b[0;36mwrapper\u001b[0;34m(*args, **kwargs)\u001b[0m\n\u001b[1;32m    356\u001b[0m                 \u001b[0;34mf\"%(removal)s.  If any parameter follows {name!r}, they \"\u001b[0m\u001b[0;34m\u001b[0m\u001b[0;34m\u001b[0m\u001b[0m\n\u001b[1;32m    357\u001b[0m                 f\"should be pass as keyword, not positionally.\")\n\u001b[0;32m--> 358\u001b[0;31m         \u001b[0;32mreturn\u001b[0m \u001b[0mfunc\u001b[0m\u001b[0;34m(\u001b[0m\u001b[0;34m*\u001b[0m\u001b[0margs\u001b[0m\u001b[0;34m,\u001b[0m \u001b[0;34m**\u001b[0m\u001b[0mkwargs\u001b[0m\u001b[0;34m)\u001b[0m\u001b[0;34m\u001b[0m\u001b[0;34m\u001b[0m\u001b[0m\n\u001b[0m\u001b[1;32m    359\u001b[0m \u001b[0;34m\u001b[0m\u001b[0m\n\u001b[1;32m    360\u001b[0m     \u001b[0;32mreturn\u001b[0m \u001b[0mwrapper\u001b[0m\u001b[0;34m\u001b[0m\u001b[0;34m\u001b[0m\u001b[0m\n",
      "\u001b[0;32m/opt/conda/lib/python3.7/site-packages/matplotlib/axes/_axes.py\u001b[0m in \u001b[0;36mimshow\u001b[0;34m(self, X, cmap, norm, aspect, interpolation, alpha, vmin, vmax, origin, extent, shape, filternorm, filterrad, imlim, resample, url, **kwargs)\u001b[0m\n\u001b[1;32m   5613\u001b[0m                               resample=resample, **kwargs)\n\u001b[1;32m   5614\u001b[0m \u001b[0;34m\u001b[0m\u001b[0m\n\u001b[0;32m-> 5615\u001b[0;31m         \u001b[0mim\u001b[0m\u001b[0;34m.\u001b[0m\u001b[0mset_data\u001b[0m\u001b[0;34m(\u001b[0m\u001b[0mX\u001b[0m\u001b[0;34m)\u001b[0m\u001b[0;34m\u001b[0m\u001b[0;34m\u001b[0m\u001b[0m\n\u001b[0m\u001b[1;32m   5616\u001b[0m         \u001b[0mim\u001b[0m\u001b[0;34m.\u001b[0m\u001b[0mset_alpha\u001b[0m\u001b[0;34m(\u001b[0m\u001b[0malpha\u001b[0m\u001b[0;34m)\u001b[0m\u001b[0;34m\u001b[0m\u001b[0;34m\u001b[0m\u001b[0m\n\u001b[1;32m   5617\u001b[0m         \u001b[0;32mif\u001b[0m \u001b[0mim\u001b[0m\u001b[0;34m.\u001b[0m\u001b[0mget_clip_path\u001b[0m\u001b[0;34m(\u001b[0m\u001b[0;34m)\u001b[0m \u001b[0;32mis\u001b[0m \u001b[0;32mNone\u001b[0m\u001b[0;34m:\u001b[0m\u001b[0;34m\u001b[0m\u001b[0;34m\u001b[0m\u001b[0m\n",
      "\u001b[0;32m/opt/conda/lib/python3.7/site-packages/matplotlib/image.py\u001b[0m in \u001b[0;36mset_data\u001b[0;34m(self, A)\u001b[0m\n\u001b[1;32m    687\u001b[0m             \u001b[0;32mif\u001b[0m \u001b[0misinstance\u001b[0m\u001b[0;34m(\u001b[0m\u001b[0mA\u001b[0m\u001b[0;34m,\u001b[0m \u001b[0mImage\u001b[0m\u001b[0;34m.\u001b[0m\u001b[0mImage\u001b[0m\u001b[0;34m)\u001b[0m\u001b[0;34m:\u001b[0m\u001b[0;34m\u001b[0m\u001b[0;34m\u001b[0m\u001b[0m\n\u001b[1;32m    688\u001b[0m                 \u001b[0mA\u001b[0m \u001b[0;34m=\u001b[0m \u001b[0mpil_to_array\u001b[0m\u001b[0;34m(\u001b[0m\u001b[0mA\u001b[0m\u001b[0;34m)\u001b[0m  \u001b[0;31m# Needed e.g. to apply png palette.\u001b[0m\u001b[0;34m\u001b[0m\u001b[0;34m\u001b[0m\u001b[0m\n\u001b[0;32m--> 689\u001b[0;31m         \u001b[0mself\u001b[0m\u001b[0;34m.\u001b[0m\u001b[0m_A\u001b[0m \u001b[0;34m=\u001b[0m \u001b[0mcbook\u001b[0m\u001b[0;34m.\u001b[0m\u001b[0msafe_masked_invalid\u001b[0m\u001b[0;34m(\u001b[0m\u001b[0mA\u001b[0m\u001b[0;34m,\u001b[0m \u001b[0mcopy\u001b[0m\u001b[0;34m=\u001b[0m\u001b[0;32mTrue\u001b[0m\u001b[0;34m)\u001b[0m\u001b[0;34m\u001b[0m\u001b[0;34m\u001b[0m\u001b[0m\n\u001b[0m\u001b[1;32m    690\u001b[0m \u001b[0;34m\u001b[0m\u001b[0m\n\u001b[1;32m    691\u001b[0m         if (self._A.dtype != np.uint8 and\n",
      "\u001b[0;32m/opt/conda/lib/python3.7/site-packages/matplotlib/cbook/__init__.py\u001b[0m in \u001b[0;36msafe_masked_invalid\u001b[0;34m(x, copy)\u001b[0m\n\u001b[1;32m    704\u001b[0m \u001b[0;34m\u001b[0m\u001b[0m\n\u001b[1;32m    705\u001b[0m \u001b[0;32mdef\u001b[0m \u001b[0msafe_masked_invalid\u001b[0m\u001b[0;34m(\u001b[0m\u001b[0mx\u001b[0m\u001b[0;34m,\u001b[0m \u001b[0mcopy\u001b[0m\u001b[0;34m=\u001b[0m\u001b[0;32mFalse\u001b[0m\u001b[0;34m)\u001b[0m\u001b[0;34m:\u001b[0m\u001b[0;34m\u001b[0m\u001b[0;34m\u001b[0m\u001b[0m\n\u001b[0;32m--> 706\u001b[0;31m     \u001b[0mx\u001b[0m \u001b[0;34m=\u001b[0m \u001b[0mnp\u001b[0m\u001b[0;34m.\u001b[0m\u001b[0marray\u001b[0m\u001b[0;34m(\u001b[0m\u001b[0mx\u001b[0m\u001b[0;34m,\u001b[0m \u001b[0msubok\u001b[0m\u001b[0;34m=\u001b[0m\u001b[0;32mTrue\u001b[0m\u001b[0;34m,\u001b[0m \u001b[0mcopy\u001b[0m\u001b[0;34m=\u001b[0m\u001b[0mcopy\u001b[0m\u001b[0;34m)\u001b[0m\u001b[0;34m\u001b[0m\u001b[0;34m\u001b[0m\u001b[0m\n\u001b[0m\u001b[1;32m    707\u001b[0m     \u001b[0;32mif\u001b[0m \u001b[0;32mnot\u001b[0m \u001b[0mx\u001b[0m\u001b[0;34m.\u001b[0m\u001b[0mdtype\u001b[0m\u001b[0;34m.\u001b[0m\u001b[0misnative\u001b[0m\u001b[0;34m:\u001b[0m\u001b[0;34m\u001b[0m\u001b[0;34m\u001b[0m\u001b[0m\n\u001b[1;32m    708\u001b[0m         \u001b[0;31m# Note that the argument to `byteswap` is 'inplace',\u001b[0m\u001b[0;34m\u001b[0m\u001b[0;34m\u001b[0m\u001b[0;34m\u001b[0m\u001b[0m\n",
      "\u001b[0;32m/opt/conda/lib/python3.7/site-packages/torch/tensor.py\u001b[0m in \u001b[0;36m__array__\u001b[0;34m(self, dtype)\u001b[0m\n\u001b[1;32m    628\u001b[0m             \u001b[0;32mreturn\u001b[0m \u001b[0mhandle_torch_function\u001b[0m\u001b[0;34m(\u001b[0m\u001b[0mTensor\u001b[0m\u001b[0;34m.\u001b[0m\u001b[0m__array__\u001b[0m\u001b[0;34m,\u001b[0m \u001b[0mrelevant_args\u001b[0m\u001b[0;34m,\u001b[0m \u001b[0mself\u001b[0m\u001b[0;34m,\u001b[0m \u001b[0mdtype\u001b[0m\u001b[0;34m=\u001b[0m\u001b[0mdtype\u001b[0m\u001b[0;34m)\u001b[0m\u001b[0;34m\u001b[0m\u001b[0;34m\u001b[0m\u001b[0m\n\u001b[1;32m    629\u001b[0m         \u001b[0;32mif\u001b[0m \u001b[0mdtype\u001b[0m \u001b[0;32mis\u001b[0m \u001b[0;32mNone\u001b[0m\u001b[0;34m:\u001b[0m\u001b[0;34m\u001b[0m\u001b[0;34m\u001b[0m\u001b[0m\n\u001b[0;32m--> 630\u001b[0;31m             \u001b[0;32mreturn\u001b[0m \u001b[0mself\u001b[0m\u001b[0;34m.\u001b[0m\u001b[0mnumpy\u001b[0m\u001b[0;34m(\u001b[0m\u001b[0;34m)\u001b[0m\u001b[0;34m\u001b[0m\u001b[0;34m\u001b[0m\u001b[0m\n\u001b[0m\u001b[1;32m    631\u001b[0m         \u001b[0;32melse\u001b[0m\u001b[0;34m:\u001b[0m\u001b[0;34m\u001b[0m\u001b[0;34m\u001b[0m\u001b[0m\n\u001b[1;32m    632\u001b[0m             \u001b[0;32mreturn\u001b[0m \u001b[0mself\u001b[0m\u001b[0;34m.\u001b[0m\u001b[0mnumpy\u001b[0m\u001b[0;34m(\u001b[0m\u001b[0;34m)\u001b[0m\u001b[0;34m.\u001b[0m\u001b[0mastype\u001b[0m\u001b[0;34m(\u001b[0m\u001b[0mdtype\u001b[0m\u001b[0;34m,\u001b[0m \u001b[0mcopy\u001b[0m\u001b[0;34m=\u001b[0m\u001b[0;32mFalse\u001b[0m\u001b[0;34m)\u001b[0m\u001b[0;34m\u001b[0m\u001b[0;34m\u001b[0m\u001b[0m\n",
      "\u001b[0;31mTypeError\u001b[0m: can't convert cuda:0 device type tensor to numpy. Use Tensor.cpu() to copy the tensor to host memory first."
     ]
    },
    {
     "data": {
      "image/png": "[encoded data removed]",
      "text/plain": [
       "<Figure size 1152x1152 with 1 Axes>"
      ]
     },
     "metadata": {
      "needs_background": "light"
     },
     "output_type": "display_data"
    }
   ],
   "source": [
    "plot_grid_image_with_mask(image, mask)"
   ]
  },
  {
   "cell_type": "code",
   "execution_count": null,
   "metadata": {
    "papermill": {
     "duration": 0.05828,
     "end_time": "2021-01-24T03:32:33.361201",
     "exception": false,
     "start_time": "2021-01-24T03:32:33.302921",
     "status": "completed"
    },
    "tags": []
   },
   "outputs": [],
   "source": []
  }
 ],
 "metadata": {
  "kernelspec": {
   "display_name": "Python 3",
   "language": "python",
   "name": "python3"
  },
  "language_info": {
   "codemirror_mode": {
    "name": "ipython",
    "version": 3
   },
   "file_extension": ".py",
   "mimetype": "text/x-python",
   "name": "python",
   "nbconvert_exporter": "python",
   "pygments_lexer": "ipython3",
   "version": "3.7.6"
  },
  "papermill": {
   "duration": 7368.277838,
   "end_time": "2021-01-24T03:32:34.606360",
   "environment_variables": {},
   "exception": null,
   "input_path": "__notebook__.ipynb",
   "output_path": "__notebook__.ipynb",
   "parameters": {},
   "start_time": "2021-01-24T01:29:46.328522",
   "version": "2.1.0"
  },
  "widgets": {
   "application/vnd.jupyter.widget-state+json": {
    "state": {
     "0ec7c3374c04405fb603350dcc67f65e": {
      "model_module": "@jupyter-widgets/controls",
      "model_module_version": "1.5.0",
      "model_name": "DescriptionStyleModel",
      "state": {
       "_model_module": "@jupyter-widgets/controls",
       "_model_module_version": "1.5.0",
       "_model_name": "DescriptionStyleModel",
       "_view_count": null,
       "_view_module": "@jupyter-widgets/base",
       "_view_module_version": "1.2.0",
       "_view_name": "StyleView",
       "description_width": ""
      }
     },
     "2bec9fe5201c49ffb515cc2cefa2d10c": {
      "model_module": "@jupyter-widgets/base",
      "model_module_version": "1.2.0",
      "model_name": "LayoutModel",
      "state": {
       "_model_module": "@jupyter-widgets/base",
       "_model_module_version": "1.2.0",
       "_model_name": "LayoutModel",
       "_view_count": null,
       "_view_module": "@jupyter-widgets/base",
       "_view_module_version": "1.2.0",
       "_view_name": "LayoutView",
       "align_content": null,
       "align_items": null,
       "align_self": null,
       "border": null,
       "bottom": null,
       "display": null,
       "flex": null,
       "flex_flow": null,
       "grid_area": null,
       "grid_auto_columns": null,
       "grid_auto_flow": null,
       "grid_auto_rows": null,
       "grid_column": null,
       "grid_gap": null,
       "grid_row": null,
       "grid_template_areas": null,
       "grid_template_columns": null,
       "grid_template_rows": null,
       "height": null,
       "justify_content": null,
       "justify_items": null,
       "left": null,
       "margin": null,
       "max_height": null,
       "max_width": null,
       "min_height": null,
       "min_width": null,
       "object_fit": null,
       "object_position": null,
       "order": null,
       "overflow": null,
       "overflow_x": null,
       "overflow_y": null,
       "padding": null,
       "right": null,
       "top": null,
       "visibility": null,
       "width": null
      }
     },
     "4c367a5f262e40d79babcc438687a122": {
      "model_module": "@jupyter-widgets/base",
      "model_module_version": "1.2.0",
      "model_name": "LayoutModel",
      "state": {
       "_model_module": "@jupyter-widgets/base",
       "_model_module_version": "1.2.0",
       "_model_name": "LayoutModel",
       "_view_count": null,
       "_view_module": "@jupyter-widgets/base",
       "_view_module_version": "1.2.0",
       "_view_name": "LayoutView",
       "align_content": null,
       "align_items": null,
       "align_self": null,
       "border": null,
       "bottom": null,
       "display": null,
       "flex": null,
       "flex_flow": null,
       "grid_area": null,
       "grid_auto_columns": null,
       "grid_auto_flow": null,
       "grid_auto_rows": null,
       "grid_column": null,
       "grid_gap": null,
       "grid_row": null,
       "grid_template_areas": null,
       "grid_template_columns": null,
       "grid_template_rows": null,
       "height": null,
       "justify_content": null,
       "justify_items": null,
       "left": null,
       "margin": null,
       "max_height": null,
       "max_width": null,
       "min_height": null,
       "min_width": null,
       "object_fit": null,
       "object_position": null,
       "order": null,
       "overflow": null,
       "overflow_x": null,
       "overflow_y": null,
       "padding": null,
       "right": null,
       "top": null,
       "visibility": null,
       "width": null
      }
     },
     "6875b9cc1a4a4ea7b3ce35f80a9410a2": {
      "model_module": "@jupyter-widgets/controls",
      "model_module_version": "1.5.0",
      "model_name": "HBoxModel",
      "state": {
       "_dom_classes": [],
       "_model_module": "@jupyter-widgets/controls",
       "_model_module_version": "1.5.0",
       "_model_name": "HBoxModel",
       "_view_count": null,
       "_view_module": "@jupyter-widgets/controls",
       "_view_module_version": "1.5.0",
       "_view_name": "HBoxView",
       "box_style": "",
       "children": [
        "IPY_MODEL_c00b36d019f1476d9120abd8de7e085f",
        "IPY_MODEL_980601fd9d5d4e4b97d1539e97ac68d4"
       ],
       "layout": "IPY_MODEL_9cee73de980c443e9d22c774cd79e9a8"
      }
     },
     "7136e4aaf30446068bead02ad7a38230": {
      "model_module": "@jupyter-widgets/controls",
      "model_module_version": "1.5.0",
      "model_name": "ProgressStyleModel",
      "state": {
       "_model_module": "@jupyter-widgets/controls",
       "_model_module_version": "1.5.0",
       "_model_name": "ProgressStyleModel",
       "_view_count": null,
       "_view_module": "@jupyter-widgets/base",
       "_view_module_version": "1.2.0",
       "_view_name": "StyleView",
       "bar_color": null,
       "description_width": "initial"
      }
     },
     "980601fd9d5d4e4b97d1539e97ac68d4": {
      "model_module": "@jupyter-widgets/controls",
      "model_module_version": "1.5.0",
      "model_name": "HTMLModel",
      "state": {
       "_dom_classes": [],
       "_model_module": "@jupyter-widgets/controls",
       "_model_module_version": "1.5.0",
       "_model_name": "HTMLModel",
       "_view_count": null,
       "_view_module": "@jupyter-widgets/controls",
       "_view_module_version": "1.5.0",
       "_view_name": "HTMLView",
       "description": "",
       "description_tooltip": null,
       "layout": "IPY_MODEL_2bec9fe5201c49ffb515cc2cefa2d10c",
       "placeholder": "​",
       "style": "IPY_MODEL_0ec7c3374c04405fb603350dcc67f65e",
       "value": " 117M/117M [00:05&lt;00:00, 21.6MB/s]"
      }
     },
     "9cee73de980c443e9d22c774cd79e9a8": {
      "model_module": "@jupyter-widgets/base",
      "model_module_version": "1.2.0",
      "model_name": "LayoutModel",
      "state": {
       "_model_module": "@jupyter-widgets/base",
       "_model_module_version": "1.2.0",
       "_model_name": "LayoutModel",
       "_view_count": null,
       "_view_module": "@jupyter-widgets/base",
       "_view_module_version": "1.2.0",
       "_view_name": "LayoutView",
       "align_content": null,
       "align_items": null,
       "align_self": null,
       "border": null,
       "bottom": null,
       "display": null,
       "flex": null,
       "flex_flow": null,
       "grid_area": null,
       "grid_auto_columns": null,
       "grid_auto_flow": null,
       "grid_auto_rows": null,
       "grid_column": null,
       "grid_gap": null,
       "grid_row": null,
       "grid_template_areas": null,
       "grid_template_columns": null,
       "grid_template_rows": null,
       "height": null,
       "justify_content": null,
       "justify_items": null,
       "left": null,
       "margin": null,
       "max_height": null,
       "max_width": null,
       "min_height": null,
       "min_width": null,
       "object_fit": null,
       "object_position": null,
       "order": null,
       "overflow": null,
       "overflow_x": null,
       "overflow_y": null,
       "padding": null,
       "right": null,
       "top": null,
       "visibility": null,
       "width": null
      }
     },
     "c00b36d019f1476d9120abd8de7e085f": {
      "model_module": "@jupyter-widgets/controls",
      "model_module_version": "1.5.0",
      "model_name": "FloatProgressModel",
      "state": {
       "_dom_classes": [],
       "_model_module": "@jupyter-widgets/controls",
       "_model_module_version": "1.5.0",
       "_model_name": "FloatProgressModel",
       "_view_count": null,
       "_view_module": "@jupyter-widgets/controls",
       "_view_module_version": "1.5.0",
       "_view_name": "ProgressView",
       "bar_style": "success",
       "description": "100%",
       "description_tooltip": null,
       "layout": "IPY_MODEL_4c367a5f262e40d79babcc438687a122",
       "max": 122410125.0,
       "min": 0.0,
       "orientation": "horizontal",
       "style": "IPY_MODEL_7136e4aaf30446068bead02ad7a38230",
       "value": 122410125.0
      }
     }
    },
    "version_major": 2,
    "version_minor": 0
   }
  }
 },
 "nbformat": 4,
 "nbformat_minor": 4
}
